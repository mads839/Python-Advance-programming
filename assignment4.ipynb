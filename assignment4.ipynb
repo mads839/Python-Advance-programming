{
 "cells": [
  {
   "cell_type": "code",
   "execution_count": 1,
   "id": "bf68ce1e",
   "metadata": {},
   "outputs": [],
   "source": [
    "# 1. In mathematics, the Fibonacci numbers, commonly denoted Fn, form a sequence, called the Fibonacci sequence, such that each number is the sum of the two preceding ones, starting from 0 and 1:\n",
    "\n",
    "# The beginning of the sequence is this:\n",
    "\n",
    "# 0, 1, 1, 2, 3, 5, 8, 13, 21, 34, 55, 89, 144, ...\n",
    "\n",
    "# The function fastFib(num) returns the fibonacci number Fn, of the given num as an argument.\n",
    "\n",
    "def fib_fast(n):\n",
    "    if n==0:\n",
    "        return 0\n",
    "    if n==1 or n==2:\n",
    "        return 1\n",
    "    if n>1:\n",
    "        return(fib_fast(n-1)+fib_fast(n-2))\n",
    "        \n",
    "        \n",
    "    \n",
    "    \n",
    "\n"
   ]
  },
  {
   "cell_type": "code",
   "execution_count": 2,
   "id": "84640cba",
   "metadata": {},
   "outputs": [
    {
     "data": {
      "text/plain": [
       "55"
      ]
     },
     "execution_count": 2,
     "metadata": {},
     "output_type": "execute_result"
    }
   ],
   "source": [
    "fib_fast(10) "
   ]
  },
  {
   "cell_type": "code",
   "execution_count": 13,
   "id": "0a621b66",
   "metadata": {},
   "outputs": [],
   "source": [
    "#2. Create a function that takes a strings characters as ASCII and returns each characters hexadecimal value as a string.\n",
    "\n",
    "def convert_to_hex(s):\n",
    "    s= s.encode(\"utf-8\")\n",
    "    return s.hex(\" \")"
   ]
  },
  {
   "cell_type": "code",
   "execution_count": 14,
   "id": "50027412",
   "metadata": {},
   "outputs": [
    {
     "data": {
      "text/plain": [
       "'42 69 67 20 42 6f 69'"
      ]
     },
     "execution_count": 14,
     "metadata": {},
     "output_type": "execute_result"
    }
   ],
   "source": [
    "convert_to_hex(\"Big Boi\")\n"
   ]
  },
  {
   "cell_type": "code",
   "execution_count": 21,
   "id": "609ff0fc",
   "metadata": {},
   "outputs": [],
   "source": [
    "# 3. Someone has attempted to censor my strings by replacing every vowel with a *, l*k* th*s. Luckily, I've been able to find the vowels that were removed.\n",
    "# Given a censored string and a string of the censored vowels, return the original uncensored string\n",
    "def uncensor(s,s1):\n",
    "    i=0\n",
    "    for letter in s:\n",
    "        if letter=='*':\n",
    "            s=s.replace(\"*\",s1[i],1)\n",
    "            i=i+1\n",
    "    return(s)"
   ]
  },
  {
   "cell_type": "code",
   "execution_count": 22,
   "id": "206a9275",
   "metadata": {},
   "outputs": [
    {
     "data": {
      "text/plain": [
       "'Where did my vowels go?'"
      ]
     },
     "execution_count": 22,
     "metadata": {},
     "output_type": "execute_result"
    }
   ],
   "source": [
    "uncensor(\"Wh*r* d*d my v*w*ls g*?\", \"eeioeo\") "
   ]
  },
  {
   "cell_type": "code",
   "execution_count": 38,
   "id": "8a3f569f",
   "metadata": {},
   "outputs": [],
   "source": [
    "#4. Write a function that takes an IP address and returns the domain name using PTR DNS records.\n",
    "import socket\n",
    "def get_domain(ip_address):\n",
    "    return socket.gethostbyaddr(ip_address)[0]"
   ]
  },
  {
   "cell_type": "code",
   "execution_count": 39,
   "id": "4f37a75a",
   "metadata": {},
   "outputs": [
    {
     "data": {
      "text/plain": [
       "'dns.google'"
      ]
     },
     "execution_count": 39,
     "metadata": {},
     "output_type": "execute_result"
    }
   ],
   "source": [
    "get_domain(\"8.8.8.8\") "
   ]
  },
  {
   "cell_type": "code",
   "execution_count": 29,
   "id": "0b43bb40",
   "metadata": {},
   "outputs": [],
   "source": [
    "#5. Create a function that takes an integer n and returns the factorial of factorials. See below examples for a better understanding:\n",
    "\n",
    "def fact(n):\n",
    "    if n==0 or n==1:\n",
    "        return 1\n",
    "    else:\n",
    "        return(n*fact(n-1))\n",
    "    \n",
    "def fact_to_fact(n):\n",
    "    result=1\n",
    "    while(n>1):\n",
    "        result=result*fact(n)\n",
    "        n=n-1\n",
    "    return(result)\n"
   ]
  },
  {
   "cell_type": "code",
   "execution_count": 30,
   "id": "c7e72a8b",
   "metadata": {},
   "outputs": [
    {
     "data": {
      "text/plain": [
       "120"
      ]
     },
     "execution_count": 30,
     "metadata": {},
     "output_type": "execute_result"
    }
   ],
   "source": [
    "fact(5)"
   ]
  },
  {
   "cell_type": "code",
   "execution_count": 31,
   "id": "ddf08fab",
   "metadata": {},
   "outputs": [
    {
     "data": {
      "text/plain": [
       "34560"
      ]
     },
     "execution_count": 31,
     "metadata": {},
     "output_type": "execute_result"
    }
   ],
   "source": [
    "fact_to_fact(5)"
   ]
  },
  {
   "cell_type": "code",
   "execution_count": null,
   "id": "b106ace2",
   "metadata": {},
   "outputs": [],
   "source": []
  }
 ],
 "metadata": {
  "kernelspec": {
   "display_name": "Python 3 (ipykernel)",
   "language": "python",
   "name": "python3"
  },
  "language_info": {
   "codemirror_mode": {
    "name": "ipython",
    "version": 3
   },
   "file_extension": ".py",
   "mimetype": "text/x-python",
   "name": "python",
   "nbconvert_exporter": "python",
   "pygments_lexer": "ipython3",
   "version": "3.9.13"
  }
 },
 "nbformat": 4,
 "nbformat_minor": 5
}
