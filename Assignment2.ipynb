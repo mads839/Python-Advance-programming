{
 "cells": [
  {
   "cell_type": "code",
   "execution_count": 10,
   "id": "f191e38a",
   "metadata": {},
   "outputs": [
    {
     "name": "stdout",
     "output_type": "stream",
     "text": [
      "Enter nth number 8\n",
      "8th Centered pentagonal number :  141\n"
     ]
    }
   ],
   "source": [
    "# Python program to find Nth Centered pentagonal number.\n",
    " \n",
    "def centered_pentagonal_Num(n):\n",
    " \n",
    "    # Formula to calculate nth\n",
    "    # Centered pentagonal number.\n",
    "     \n",
    "    return (5 * n * n - 5 * n + 2) // 2\n",
    " \n",
    "# Driver Code\n",
    "n = int(input(\"Enter nth number \"))\n",
    "print(\"%sth Centered pentagonal number : \" %n,centered_pentagonal_Num(n))\n",
    "                     "
   ]
  },
  {
   "cell_type": "code",
   "execution_count": 15,
   "id": "3a68efa5",
   "metadata": {},
   "outputs": [],
   "source": [
    "#Make a function that encrypts a given input with these steps:\n",
    "#Input: \"apple\"\n",
    "#Step 1: Reverse the input: \"elppa\"\n",
    "#Step 2: Replace all vowels using the following chart:\n",
    "# a => 0\n",
    "# e => 1\n",
    "# i => 2\n",
    "# o => 2\n",
    "# u => 3\n",
    "# \"1lpp0\"\n",
    "# Step 3: Add \"aca\" to the end of the word: \"1lpp0aca\"\n",
    "# Output: \"1lpp0aca\"\n",
    "def encrypt(s):\n",
    "    dict1={\"a\":\"0\",\"e\":\"1\",\"i\":\"2\",\"o\":\"2\",\"u\":\"3\"}\n",
    "    p=s[::-1]\n",
    "    for i in dict1:\n",
    "        p=p.replace(i,dict1[i])\n",
    "    return(p+\"aca\")\n",
    "       \n",
    "\n"
   ]
  },
  {
   "cell_type": "code",
   "execution_count": 16,
   "id": "a751db21",
   "metadata": {},
   "outputs": [
    {
     "data": {
      "text/plain": [
       "'sd0maca'"
      ]
     },
     "execution_count": 16,
     "metadata": {},
     "output_type": "execute_result"
    }
   ],
   "source": [
    "encrypt(\"mads\")"
   ]
  },
  {
   "cell_type": "code",
   "execution_count": 17,
   "id": "da3ad7e2",
   "metadata": {},
   "outputs": [
    {
     "data": {
      "text/plain": [
       "'0n0n0baca'"
      ]
     },
     "execution_count": 17,
     "metadata": {},
     "output_type": "execute_result"
    }
   ],
   "source": [
    "encrypt(\"banana\") "
   ]
  },
  {
   "cell_type": "code",
   "execution_count": 7,
   "id": "48db8e7a",
   "metadata": {},
   "outputs": [],
   "source": [
    "from datetime import date\n",
    "\n",
    "def has_friday_13(month,year):\n",
    "    return(str(date(year,month,13).strftime(\"%A\")==\"Friday\"))\n",
    "    "
   ]
  },
  {
   "cell_type": "code",
   "execution_count": 8,
   "id": "23876421",
   "metadata": {},
   "outputs": [
    {
     "data": {
      "text/plain": [
       "'True'"
      ]
     },
     "execution_count": 8,
     "metadata": {},
     "output_type": "execute_result"
    }
   ],
   "source": [
    "has_friday_13(3, 2020) "
   ]
  },
  {
   "cell_type": "code",
   "execution_count": null,
   "id": "ea2f79e9",
   "metadata": {},
   "outputs": [],
   "source": [
    "#Write a regular expression that will help us count how many bad cookies are produced every day.You must use RegEx negativelookbehind.\n",
    "\n"
   ]
  },
  {
   "cell_type": "code",
   "execution_count": 51,
   "id": "d7dd1140",
   "metadata": {},
   "outputs": [],
   "source": [
    "#5. Given a list of words in the singular form, return a set of those words in the plural form if they appear more than once in the list.\n",
    "list2=[]\n",
    "def pluralize(list1):\n",
    "    for i in list1:\n",
    "        if list1.count(i)>1:\n",
    "            i=str(i)+\"s\"\n",
    "            list2.append(i)\n",
    "        else:\n",
    "            i=i\n",
    "            list2.append(i)\n",
    "    return(list(set(list2)))\n",
    "        \n",
    "\n"
   ]
  },
  {
   "cell_type": "code",
   "execution_count": 52,
   "id": "f7403188",
   "metadata": {},
   "outputs": [
    {
     "data": {
      "text/plain": [
       "['cows', 'pig']"
      ]
     },
     "execution_count": 52,
     "metadata": {},
     "output_type": "execute_result"
    }
   ],
   "source": [
    "pluralize([\"cow\", \"pig\", \"cow\", \"cow\"]) "
   ]
  },
  {
   "cell_type": "code",
   "execution_count": 48,
   "id": "239d0c3e",
   "metadata": {},
   "outputs": [
    {
     "data": {
      "text/plain": [
       "['tables']"
      ]
     },
     "execution_count": 48,
     "metadata": {},
     "output_type": "execute_result"
    }
   ],
   "source": [
    "pluralize([\"table\", \"table\", \"table\"]) "
   ]
  },
  {
   "cell_type": "code",
   "execution_count": null,
   "id": "a6cc0732",
   "metadata": {},
   "outputs": [],
   "source": []
  },
  {
   "cell_type": "code",
   "execution_count": null,
   "id": "3c47c35f",
   "metadata": {},
   "outputs": [],
   "source": []
  }
 ],
 "metadata": {
  "kernelspec": {
   "display_name": "Python 3 (ipykernel)",
   "language": "python",
   "name": "python3"
  },
  "language_info": {
   "codemirror_mode": {
    "name": "ipython",
    "version": 3
   },
   "file_extension": ".py",
   "mimetype": "text/x-python",
   "name": "python",
   "nbconvert_exporter": "python",
   "pygments_lexer": "ipython3",
   "version": "3.9.13"
  }
 },
 "nbformat": 4,
 "nbformat_minor": 5
}
