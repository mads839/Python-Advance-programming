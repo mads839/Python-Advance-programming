{
 "cells": [
  {
   "cell_type": "markdown",
   "id": "f9eb9e8c",
   "metadata": {},
   "source": [
    "# 2. Write a function that will return the longest word in a sentence. In cases where more than one word is found, return the first one."
   ]
  },
  {
   "cell_type": "code",
   "execution_count": 7,
   "id": "173c8456",
   "metadata": {},
   "outputs": [],
   "source": [
    "def find_longest(s):\n",
    "    l1=s.split()\n",
    "    longest=\"\"\n",
    "    for i in l1:\n",
    "        if len(i)>len(longest):\n",
    "            longest=i\n",
    "        \n",
    "    return(longest.strip(\".\"))\n",
    "    "
   ]
  },
  {
   "cell_type": "code",
   "execution_count": 8,
   "id": "3f7069f1",
   "metadata": {},
   "outputs": [
    {
     "data": {
      "text/plain": [
       "'forever'"
      ]
     },
     "execution_count": 8,
     "metadata": {},
     "output_type": "execute_result"
    }
   ],
   "source": [
    "find_longest(\"A thing of beauty is a joy forever.\") "
   ]
  },
  {
   "cell_type": "markdown",
   "id": "6cfb0457",
   "metadata": {},
   "source": [
    "# 3. Create a function to check if a candidate is qualified in an imaginary coding interview of an imaginary tech startup.\n",
    "\n",
    "The criteria for a candidate to be qualified in the coding interview is:\n",
    "\n",
    "   1. The candidate should have complete all the questions.\n",
    "   2. The maximum time given to complete the interview is 120 minutes.\n",
    "   3. The maximum time given for very easy questions is 5 minutes each.\n",
    "   4. The maximum time given for easy questions is 10 minutes each.\n",
    "   5. The maximum time given for medium questions is 15 minutes each.\n",
    "   6. The maximum time given for hard questions is 20 minutes each.\n",
    "\n",
    "If all the above conditions are satisfied, return \"qualified\", else return \"disqualified\".\n",
    "\n",
    "You will be given a list of time taken by a candidate to solve a particular question and the total time taken by the candidate to complete the interview.\n",
    "\n",
    "Given a list , in a true condition will always be in the format [very easy, very easy, easy, easy, medium, medium, hard, hard].\n",
    "\n",
    "The maximum time to complete the interview includes a buffer time of 20 minutes.\n"
   ]
  },
  {
   "cell_type": "code",
   "execution_count": 15,
   "id": "3fa95376",
   "metadata": {},
   "outputs": [],
   "source": [
    "def interview(l1,total_time):\n",
    "    if total_time<=120 and len(l1)==8:\n",
    "        for i in l1[0:2]:\n",
    "            if i>5:\n",
    "                return \"disqualified\"\n",
    "        for i in l1[2:4]:\n",
    "            if i>10:\n",
    "                return \"disqualified\"\n",
    "        for i in l1[4:6]:\n",
    "            if i>15:\n",
    "                return \"disqualified\"\n",
    "        for i in l1[6:8]:\n",
    "            if i>20:\n",
    "                return \"disqualified\"\n",
    "    else: \n",
    "        return \"disqualified\"\n",
    "    return \"qualified\"\n",
    "    "
   ]
  },
  {
   "cell_type": "code",
   "execution_count": 16,
   "id": "ffca5973",
   "metadata": {},
   "outputs": [
    {
     "data": {
      "text/plain": [
       "'qualified'"
      ]
     },
     "execution_count": 16,
     "metadata": {},
     "output_type": "execute_result"
    }
   ],
   "source": [
    "interview([5, 5, 10, 10, 15, 15, 20, 20], 120) "
   ]
  },
  {
   "cell_type": "code",
   "execution_count": 17,
   "id": "90aaeec8",
   "metadata": {},
   "outputs": [
    {
     "data": {
      "text/plain": [
       "'qualified'"
      ]
     },
     "execution_count": 17,
     "metadata": {},
     "output_type": "execute_result"
    }
   ],
   "source": [
    "interview([2, 3, 8, 6, 5, 12, 10, 18], 64) "
   ]
  },
  {
   "cell_type": "code",
   "execution_count": 18,
   "id": "e166ccd6",
   "metadata": {},
   "outputs": [
    {
     "data": {
      "text/plain": [
       "'disqualified'"
      ]
     },
     "execution_count": 18,
     "metadata": {},
     "output_type": "execute_result"
    }
   ],
   "source": [
    "interview([5, 5, 10, 10, 25, 15, 20, 20], 120) "
   ]
  },
  {
   "cell_type": "markdown",
   "id": "1d530471",
   "metadata": {},
   "source": [
    "# 4. Write a function that divides a list into chunks of size n, where n is the length of each chunk."
   ]
  },
  {
   "cell_type": "code",
   "execution_count": 37,
   "id": "5f7806c8",
   "metadata": {},
   "outputs": [],
   "source": [
    "def chunkify(list1,n):\n",
    "    list2=[]\n",
    "    for i in range (0,len(list1),n):\n",
    "        chunk=list1[i:i+n]\n",
    "        list2.append(chunk)\n",
    "    return list2\n"
   ]
  },
  {
   "cell_type": "code",
   "execution_count": 38,
   "id": "bd5fbd7f",
   "metadata": {},
   "outputs": [
    {
     "data": {
      "text/plain": [
       "[[2, 3], [4, 5]]"
      ]
     },
     "execution_count": 38,
     "metadata": {},
     "output_type": "execute_result"
    }
   ],
   "source": [
    "chunkify([2, 3, 4, 5], 2) "
   ]
  },
  {
   "cell_type": "code",
   "execution_count": 39,
   "id": "1816a29b",
   "metadata": {},
   "outputs": [
    {
     "data": {
      "text/plain": [
       "[[2, 3], [4, 5], [6]]"
      ]
     },
     "execution_count": 39,
     "metadata": {},
     "output_type": "execute_result"
    }
   ],
   "source": [
    "chunkify([2, 3, 4, 5, 6], 2) "
   ]
  },
  {
   "cell_type": "markdown",
   "id": "d0178f21",
   "metadata": {},
   "source": [
    "# 5. You are given a list of strings consisting of grocery items, with prices in parentheses. Return a list of prices in float format.\n",
    "\n"
   ]
  },
  {
   "cell_type": "code",
   "execution_count": 33,
   "id": "c9116dbb",
   "metadata": {},
   "outputs": [],
   "source": [
    "def get_prices(l):\n",
    "    l1=[]\n",
    "    for i in l:\n",
    "        l1.append(i.split(\" \")[-1].replace(\"($\",\"\").replace(\")\",\"\"))\n",
    "    return(list(map(float,l1)))\n",
    "        \n",
    "        "
   ]
  },
  {
   "cell_type": "code",
   "execution_count": 34,
   "id": "22e45a9d",
   "metadata": {},
   "outputs": [
    {
     "data": {
      "text/plain": [
       "[4.99]"
      ]
     },
     "execution_count": 34,
     "metadata": {},
     "output_type": "execute_result"
    }
   ],
   "source": [
    "get_prices([\"salad ($4.99)\"]) "
   ]
  },
  {
   "cell_type": "code",
   "execution_count": 35,
   "id": "c38e1a53",
   "metadata": {},
   "outputs": [
    {
     "data": {
      "text/plain": [
       "[1.99, 5.99, 0.75]"
      ]
     },
     "execution_count": 35,
     "metadata": {},
     "output_type": "execute_result"
    }
   ],
   "source": [
    "get_prices([\n",
    "  \"artichokes ($1.99)\",\n",
    "  \"rotiserrie chicken ($5.99)\",\n",
    "  \"gum ($0.75)\"\n",
    "])\n"
   ]
  },
  {
   "cell_type": "code",
   "execution_count": null,
   "id": "a6e07ae6",
   "metadata": {},
   "outputs": [],
   "source": []
  }
 ],
 "metadata": {
  "kernelspec": {
   "display_name": "Python 3 (ipykernel)",
   "language": "python",
   "name": "python3"
  },
  "language_info": {
   "codemirror_mode": {
    "name": "ipython",
    "version": 3
   },
   "file_extension": ".py",
   "mimetype": "text/x-python",
   "name": "python",
   "nbconvert_exporter": "python",
   "pygments_lexer": "ipython3",
   "version": "3.9.13"
  }
 },
 "nbformat": 4,
 "nbformat_minor": 5
}
