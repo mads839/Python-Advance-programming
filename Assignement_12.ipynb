{
 "cells": [
  {
   "cell_type": "code",
   "execution_count": 5,
   "metadata": {},
   "outputs": [],
   "source": [
    "#1. For this challenge, forget how to add two numbers together. The best explanation on what to do for this function is this meme:\n",
    "def meme_sum(a,b):\n",
    "    a=str(a)\n",
    "    b=str(b)\n",
    "    sum1=''\n",
    "    while True:\n",
    "        if (len(a)>len(b)):\n",
    "            b='0'+b\n",
    "        elif(len(a)<len(b)):\n",
    "            a='0'+a\n",
    "        else:\n",
    "            break\n",
    "    for i in range(len(a)):\n",
    "        sum1+=str(int (a[i])+int(b[i]))\n",
    "    return(sum1)"
   ]
  },
  {
   "cell_type": "code",
   "execution_count": 6,
   "metadata": {},
   "outputs": [
    {
     "data": {
      "text/plain": [
       "'515'"
      ]
     },
     "execution_count": 6,
     "metadata": {},
     "output_type": "execute_result"
    }
   ],
   "source": [
    "meme_sum(26,39)"
   ]
  },
  {
   "cell_type": "code",
   "execution_count": 16,
   "metadata": {},
   "outputs": [],
   "source": [
    "#2. Given an integer, create a function that returns the next prime. If the number is prime, return the number itself.\n",
    "def prime_num(n):\n",
    "    for i in range(2,n):\n",
    "        if(n%i==0):\n",
    "            break\n",
    "    else:\n",
    "        return(n)\n",
    "def next_prime(n):\n",
    "    while True:\n",
    "        if prime_num(n)!=None:\n",
    "            break\n",
    "        n=n+1\n",
    "        prime_num(n)\n",
    "    return prime_num(n)"
   ]
  },
  {
   "cell_type": "code",
   "execution_count": 17,
   "metadata": {},
   "outputs": [
    {
     "data": {
      "text/plain": [
       "13"
      ]
     },
     "execution_count": 17,
     "metadata": {},
     "output_type": "execute_result"
    }
   ],
   "source": [
    "next_prime(12)"
   ]
  },
  {
   "cell_type": "code",
   "execution_count": 22,
   "metadata": {},
   "outputs": [],
   "source": [
    "# 3. If a person traveled up a hill for 18mins at 20mph and then traveled back down the same path at 60mph then their average speed traveled was 30mph.\n",
    "\n",
    "# Write a function that returns the average speed traveled given an uphill time, uphill rate and a downhill rate. Uphill time is given in minutes. Return the rate as an integer (mph). No rounding is necessary.\n",
    "def avg_speed(time,uphill_rate,downhill_rate):\n",
    "    avg_speed=(2*uphill_rate*downhill_rate/(downhill_rate+uphill_rate))\n",
    "    return(avg_speed)"
   ]
  },
  {
   "cell_type": "code",
   "execution_count": 23,
   "metadata": {},
   "outputs": [
    {
     "name": "stdout",
     "output_type": "stream",
     "text": [
      "30.0\n"
     ]
    }
   ],
   "source": [
    "print(avg_speed(18, 20, 60))"
   ]
  },
  {
   "cell_type": "code",
   "execution_count": 24,
   "metadata": {},
   "outputs": [],
   "source": [
    "#.4. The Kempner Function, applied to a composite number, permits to find the smallest integer greater than zero whose factorial is exactly divided by the number.\n",
    "\n",
    "def fact(n):\n",
    "    if n==1 or n==0 :\n",
    "        return(1)\n",
    "    else:\n",
    "        return n*fact(n-1)\n",
    "    \n",
    "def kempner(n):\n",
    "    for i in range(1,n+1):\n",
    "        if fact(i)%n ==0:\n",
    "            return(i)\n"
   ]
  },
  {
   "cell_type": "code",
   "execution_count": 25,
   "metadata": {},
   "outputs": [
    {
     "data": {
      "text/plain": [
       "3"
      ]
     },
     "execution_count": 25,
     "metadata": {},
     "output_type": "execute_result"
    }
   ],
   "source": [
    "kempner(6) "
   ]
  },
  {
   "cell_type": "code",
   "execution_count": 26,
   "metadata": {},
   "outputs": [
    {
     "data": {
      "text/plain": [
       "5"
      ]
     },
     "execution_count": 26,
     "metadata": {},
     "output_type": "execute_result"
    }
   ],
   "source": [
    "kempner(10) "
   ]
  },
  {
   "cell_type": "code",
   "execution_count": 32,
   "metadata": {},
   "outputs": [],
   "source": [
    "#5. You work in a factory, and your job is to take items from a conveyor belt and pack them into boxes. Each box can hold a maximum of 10 kgs. Given a list containing the weight (in kg) of each item, how many boxes would you need to pack all of the items?\n",
    "\n",
    "\n",
    "def boxes(l):\n",
    "    l1=[]\n",
    "    box=[]\n",
    "    for i in l:\n",
    "        box.append(i)\n",
    "        if sum(box)>10:\n",
    "            box.pop()\n",
    "            l1.append(box)\n",
    "            box=[]\n",
    "            box.append(i)\n",
    "    l1.append(box)\n",
    "    return(l1)\n"
   ]
  },
  {
   "cell_type": "code",
   "execution_count": 33,
   "metadata": {},
   "outputs": [
    {
     "data": {
      "text/plain": [
       "[[2, 1, 2, 5], [4, 3], [6, 1, 1], [9], [3, 2]]"
      ]
     },
     "execution_count": 33,
     "metadata": {},
     "output_type": "execute_result"
    }
   ],
   "source": [
    "boxes([2, 1, 2, 5, 4, 3, 6, 1, 1, 9, 3, 2]) "
   ]
  },
  {
   "cell_type": "code",
   "execution_count": null,
   "metadata": {},
   "outputs": [],
   "source": []
  }
 ],
 "metadata": {
  "kernelspec": {
   "display_name": "Python 3",
   "language": "python",
   "name": "python3"
  },
  "language_info": {
   "codemirror_mode": {
    "name": "ipython",
    "version": 3
   },
   "file_extension": ".py",
   "mimetype": "text/x-python",
   "name": "python",
   "nbconvert_exporter": "python",
   "pygments_lexer": "ipython3",
   "version": "3.8.3"
  }
 },
 "nbformat": 4,
 "nbformat_minor": 4
}
