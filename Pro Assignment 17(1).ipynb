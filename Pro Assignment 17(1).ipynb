{
 "cells": [
  {
   "cell_type": "code",
   "execution_count": 7,
   "id": "29b86b08",
   "metadata": {},
   "outputs": [],
   "source": [
    "#1. Create a function that transposes a 2D matrix.\n",
    "\n",
    "def transpose_matrix(l):\n",
    "    l2=[]\n",
    "    for i in range (len(l[0])):\n",
    "        l1=[]\n",
    "        for j in range(len(l)):\n",
    "            l1.append(l[j][i])\n",
    "        l2.append(l1)\n",
    "    return(l2)\n",
    "        "
   ]
  },
  {
   "cell_type": "code",
   "execution_count": 8,
   "id": "b7de8361",
   "metadata": {},
   "outputs": [
    {
     "data": {
      "text/plain": [
       "[[5, 6, 9], [5, 7, 1]]"
      ]
     },
     "execution_count": 8,
     "metadata": {},
     "output_type": "execute_result"
    }
   ],
   "source": [
    "transpose_matrix([\n",
    "  [5, 5],\n",
    "  [6, 7],\n",
    "  [9, 1]\n",
    "]) \n"
   ]
  },
  {
   "cell_type": "raw",
   "id": "2267fbdb",
   "metadata": {},
   "source": [
    "#2. Create a function that determines whether a string is a valid hex code.\n",
    "# A hex code must begin with a pound key # and is exactly 6 characters in length. Each character must be a digit from 0-9 or an alphabetic character from A-F. All alphabetic characters may be uppercase or lowercase."
   ]
  },
  {
   "cell_type": "code",
   "execution_count": null,
   "id": "61a77648",
   "metadata": {},
   "outputs": [],
   "source": [
    "\n",
    "def is_valid_hex_code(s):\n",
    "    if len(s)==7 and s[0]==\"#\":\n",
    "        for letter in s[1:]:\n",
    "            if letter.lower() not in \"abcdef\" and  not letter.isdigit():                \n",
    "                return False\n",
    "            else:\n",
    "                return True\n",
    "        \n",
    "    else:\n",
    "        return False"
   ]
  },
  {
   "cell_type": "code",
   "execution_count": 26,
   "id": "f6b0bb39",
   "metadata": {},
   "outputs": [
    {
     "data": {
      "text/plain": [
       "True"
      ]
     },
     "execution_count": 26,
     "metadata": {},
     "output_type": "execute_result"
    }
   ],
   "source": [
    "is_valid_hex_code(\"#CD5C5C\") "
   ]
  },
  {
   "cell_type": "code",
   "execution_count": 27,
   "id": "352b0379",
   "metadata": {},
   "outputs": [
    {
     "data": {
      "text/plain": [
       "True"
      ]
     },
     "execution_count": 27,
     "metadata": {},
     "output_type": "execute_result"
    }
   ],
   "source": [
    "is_valid_hex_code(\"#EAECEE\")"
   ]
  },
  {
   "cell_type": "code",
   "execution_count": 28,
   "id": "c99a7f66",
   "metadata": {},
   "outputs": [
    {
     "data": {
      "text/plain": [
       "False"
      ]
     },
     "execution_count": 28,
     "metadata": {},
     "output_type": "execute_result"
    }
   ],
   "source": [
    "is_valid_hex_code(\"#CD5C58C\") "
   ]
  },
  {
   "cell_type": "raw",
   "id": "2bc3d01b",
   "metadata": {},
   "source": [
    "#3. Given a list of math equations (given as strings), return the percentage of correct answers as a string. Round to #the nearest whole number."
   ]
  },
  {
   "cell_type": "code",
   "execution_count": null,
   "id": "05269eba",
   "metadata": {},
   "outputs": [],
   "source": [
    "\n",
    "\n",
    "def mark_maths(l):\n",
    "    count=0\n",
    "    for i in l:\n",
    "        l1=i.split(\"=\")\n",
    "        if(eval(l1[0])==int(l1[1])):\n",
    "            count+=1\n",
    "    return str(round((count/len(l))*100))+\"%\"\n"
   ]
  },
  {
   "cell_type": "code",
   "execution_count": 42,
   "id": "67fdc936",
   "metadata": {},
   "outputs": [
    {
     "data": {
      "text/plain": [
       "'75%'"
      ]
     },
     "execution_count": 42,
     "metadata": {},
     "output_type": "execute_result"
    }
   ],
   "source": [
    "mark_maths([\"2+2=4\", \"3+2=5\", \"10-3=3\", \"5+5=10\"])"
   ]
  },
  {
   "cell_type": "code",
   "execution_count": 39,
   "id": "616286db",
   "metadata": {},
   "outputs": [],
   "source": []
  },
  {
   "cell_type": "code",
   "execution_count": 38,
   "id": "509f941c",
   "metadata": {},
   "outputs": [
    {
     "data": {
      "text/plain": [
       "'75%'"
      ]
     },
     "execution_count": 38,
     "metadata": {},
     "output_type": "execute_result"
    }
   ],
   "source": [
    "mark_maths([\"2+2=4\", \"3+2=5\", \"10-3=3\", \"5+5=10\"])"
   ]
  },
  {
   "cell_type": "raw",
   "id": "469585b0",
   "metadata": {},
   "source": [
    "# 5. From point A, an object is moving towards point B at constant velocity va (in km/hr). From point B, another object is moving towards point A at constant velocity vb (in km/hr). Knowing this and the distance between point A and B (in km), write a function that returns how much time passes until both objects meet."
   ]
  },
  {
   "cell_type": "code",
   "execution_count": null,
   "id": "072cc637",
   "metadata": {},
   "outputs": [],
   "source": [
    "\n",
    "def lets_meet(dis,vel1,vel2):\n",
    "    time=(dis/(vel1+vel2))*60\n",
    "    hours, seconds=divmod(time*60, 3600)\n",
    "    minutes, seconds=divmod(seconds, 60)\n",
    "    return str(round(hours))+\"h \"+str(round(minutes))+\"min \"+str(round(seconds))+\"sec\""
   ]
  },
  {
   "cell_type": "code",
   "execution_count": 58,
   "id": "505cdb0c",
   "metadata": {},
   "outputs": [
    {
     "data": {
      "text/plain": [
       "'2h 30min 0sec'"
      ]
     },
     "execution_count": 58,
     "metadata": {},
     "output_type": "execute_result"
    }
   ],
   "source": [
    "lets_meet(100, 10, 30) \n"
   ]
  },
  {
   "cell_type": "code",
   "execution_count": 59,
   "id": "c1c1e688",
   "metadata": {},
   "outputs": [
    {
     "data": {
      "text/plain": [
       "'1h 52min 0sec'"
      ]
     },
     "execution_count": 59,
     "metadata": {},
     "output_type": "execute_result"
    }
   ],
   "source": [
    "lets_meet(280, 70, 80) "
   ]
  },
  {
   "cell_type": "code",
   "execution_count": null,
   "id": "06da7bef",
   "metadata": {},
   "outputs": [],
   "source": []
  }
 ],
 "metadata": {
  "kernelspec": {
   "display_name": "Python 3 (ipykernel)",
   "language": "python",
   "name": "python3"
  },
  "language_info": {
   "codemirror_mode": {
    "name": "ipython",
    "version": 3
   },
   "file_extension": ".py",
   "mimetype": "text/x-python",
   "name": "python",
   "nbconvert_exporter": "python",
   "pygments_lexer": "ipython3",
   "version": "3.9.13"
  }
 },
 "nbformat": 4,
 "nbformat_minor": 5
}
