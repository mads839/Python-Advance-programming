{
 "cells": [
  {
   "cell_type": "markdown",
   "id": "545d12d9",
   "metadata": {},
   "source": [
    "# 1. Create a checker board generator, which takes as inputs n and 2 elements to generate an n x n checkerboard with those two elements as alternating squares.\n",
    "\n"
   ]
  },
  {
   "cell_type": "code",
   "execution_count": 6,
   "id": "337d36e0",
   "metadata": {},
   "outputs": [],
   "source": [
    "def checker_board(n,element1,element2):\n",
    "    checkboard=[]\n",
    "    elements=[element1,element2]\n",
    "    for i in range(n):\n",
    "        list1=[]\n",
    "    for j in range(n):\n",
    "        element=elements[(i+j)%2]\n",
    "        row.append(element)\n",
    "        checkboard.append(row)\n",
    "    return checkboard"
   ]
  },
  {
   "cell_type": "code",
   "execution_count": 7,
   "id": "dc2fc0d7",
   "metadata": {},
   "outputs": [
    {
     "data": {
      "text/plain": [
       "[[7, 6], [6, 7]]"
      ]
     },
     "execution_count": 7,
     "metadata": {},
     "output_type": "execute_result"
    }
   ],
   "source": [
    "generate_checkerboard(2, 7, 6) "
   ]
  },
  {
   "cell_type": "code",
   "execution_count": 8,
   "id": "1d38f664",
   "metadata": {},
   "outputs": [
    {
     "data": {
      "text/plain": [
       "[['A', 'B', 'A'], ['B', 'A', 'B'], ['A', 'B', 'A']]"
      ]
     },
     "execution_count": 8,
     "metadata": {},
     "output_type": "execute_result"
    }
   ],
   "source": [
    "generate_checkerboard(3, \"A\", \"B\") "
   ]
  },
  {
   "cell_type": "markdown",
   "id": "1cb4d812",
   "metadata": {},
   "source": [
    "# 2. A string is an almost-palindrome if, by changing only one character, you can make it a palindrome. Create a function that returns True if a string is an almost-palindrome and False otherwise."
   ]
  },
  {
   "cell_type": "code",
   "execution_count": 79,
   "id": "4baa1d7a",
   "metadata": {},
   "outputs": [],
   "source": [
    "def almost_palindrome(s):\n",
    "    count=0\n",
    "    if len(s)%2!=0:\n",
    "        s1=s[0:int(len(s)/2)]\n",
    "        s2=s[-1:int(len(s)/2):-1]\n",
    "    else:\n",
    "        s1=s[0:int(len(s)/2)-1]\n",
    "        s2=s[-1:int(len(s)/2)-1:-1]\n",
    "    for i in range(len(s1)):\n",
    "        if(s1[i]!=s2[i]):\n",
    "            count+=1\n",
    "    if count==1:      \n",
    "        return True\n",
    "    else:\n",
    "        return False \n",
    "        \n",
    "        \n",
    "        \n",
    "    "
   ]
  },
  {
   "cell_type": "code",
   "execution_count": 80,
   "id": "5beddbeb",
   "metadata": {},
   "outputs": [
    {
     "data": {
      "text/plain": [
       "True"
      ]
     },
     "execution_count": 80,
     "metadata": {},
     "output_type": "execute_result"
    }
   ],
   "source": [
    "almost_palindrome(\"abcdcbg\") "
   ]
  },
  {
   "cell_type": "code",
   "execution_count": 81,
   "id": "d440e663",
   "metadata": {},
   "outputs": [
    {
     "data": {
      "text/plain": [
       "True"
      ]
     },
     "execution_count": 81,
     "metadata": {},
     "output_type": "execute_result"
    }
   ],
   "source": [
    "almost_palindrome(\"abccia\") "
   ]
  },
  {
   "cell_type": "code",
   "execution_count": 78,
   "id": "c06fd40c",
   "metadata": {},
   "outputs": [
    {
     "data": {
      "text/plain": [
       "False"
      ]
     },
     "execution_count": 78,
     "metadata": {},
     "output_type": "execute_result"
    }
   ],
   "source": [
    "almost_palindrome(\"abcdaaa\") "
   ]
  },
  {
   "cell_type": "code",
   "execution_count": 84,
   "id": "e9822aec",
   "metadata": {},
   "outputs": [
    {
     "data": {
      "text/plain": [
       "True"
      ]
     },
     "execution_count": 84,
     "metadata": {},
     "output_type": "execute_result"
    }
   ],
   "source": [
    "almost_palindrome(\"1234322\") \n",
    "\n"
   ]
  },
  {
   "cell_type": "markdown",
   "id": "2d164892",
   "metadata": {},
   "source": [
    "# 3. Create a function that finds how many prime numbers there are, up to the given integer."
   ]
  },
  {
   "cell_type": "code",
   "execution_count": 100,
   "id": "43aa5d2d",
   "metadata": {},
   "outputs": [],
   "source": [
    "def prime_numbers(n):\n",
    "    list1=[]\n",
    "    for i in range(2,n):\n",
    "        for j in range(2,i):\n",
    "            if i%j==0:\n",
    "                break\n",
    "        else:\n",
    "            list1.append(i)\n",
    "\n",
    "    return(len(list1),list1)        "
   ]
  },
  {
   "cell_type": "code",
   "execution_count": 101,
   "id": "d4e18d0d",
   "metadata": {},
   "outputs": [
    {
     "data": {
      "text/plain": [
       "(4, [2, 3, 5, 7])"
      ]
     },
     "execution_count": 101,
     "metadata": {},
     "output_type": "execute_result"
    }
   ],
   "source": [
    "prime_numbers(10) "
   ]
  },
  {
   "cell_type": "code",
   "execution_count": 102,
   "id": "f704f9c8",
   "metadata": {},
   "outputs": [
    {
     "data": {
      "text/plain": [
       "(10, [2, 3, 5, 7, 11, 13, 17, 19, 23, 29])"
      ]
     },
     "execution_count": 102,
     "metadata": {},
     "output_type": "execute_result"
    }
   ],
   "source": [
    "prime_numbers(30) "
   ]
  },
  {
   "cell_type": "markdown",
   "id": "5986fca8",
   "metadata": {},
   "source": [
    "# 4. If today was Monday, in two days, it would be Wednesday.\n",
    "\n",
    "Create a function that takes in a list of days as input and the number of days to increment by. Return a list of days after n number of days has passed.\n",
    "\n"
   ]
  },
  {
   "cell_type": "code",
   "execution_count": 138,
   "id": "70eff0f0",
   "metadata": {},
   "outputs": [],
   "source": [
    "def after_n_days(l,n):\n",
    "    week=[\"Monday\", \"Tuesday\", \"Wednesday\", \"Thursday\", \"Friday\", \"Saturday\", \"Sunday\"]\n",
    "    New_week=[]\n",
    "    for days in l:\n",
    "        index=week.index(days)\n",
    "        increment_index=(index+n)%7\n",
    "        increment_days=week[increment_index]\n",
    "        New_week.append(increment_days)\n",
    "    return(New_week)\n"
   ]
  },
  {
   "cell_type": "code",
   "execution_count": 139,
   "id": "11989e5f",
   "metadata": {},
   "outputs": [
    {
     "data": {
      "text/plain": [
       "['Monday', 'Friday']"
      ]
     },
     "execution_count": 139,
     "metadata": {},
     "output_type": "execute_result"
    }
   ],
   "source": [
    "after_n_days([\"Thursday\", \"Monday\"], 4) "
   ]
  },
  {
   "cell_type": "markdown",
   "id": "04796f0c",
   "metadata": {},
   "source": [
    "# 5. You are in the process of creating a chat application and want to add an anonymous name feature. This anonymous name feature will create an alias that consists of two capitalized words beginning with the same letter as the users first name.\n",
    "\n",
    "Create a function that determines if the list of users is mapped to a list of anonymous names correctly.\n"
   ]
  },
  {
   "cell_type": "code",
   "execution_count": 145,
   "id": "87607bdc",
   "metadata": {},
   "outputs": [],
   "source": [
    "def is_correct_aliases(l1,l2):\n",
    "    for i in range(len(l1)):\n",
    "        if l1[i][0]==l2[i][0] and l1[i][0]==l2[i].split()[1][0]:\n",
    "            return True\n",
    "        else:\n",
    "            return False"
   ]
  },
  {
   "cell_type": "code",
   "execution_count": 146,
   "id": "e6b57482",
   "metadata": {},
   "outputs": [
    {
     "data": {
      "text/plain": [
       "True"
      ]
     },
     "execution_count": 146,
     "metadata": {},
     "output_type": "execute_result"
    }
   ],
   "source": [
    "is_correct_aliases([\"Adrian M.\", \"Harriet S.\", \"Mandy T.\"], [\"Amazing Artichoke\", \"Hopeful Hedgehog\", \"Marvelous Mouse\"])"
   ]
  },
  {
   "cell_type": "code",
   "execution_count": null,
   "id": "72ca3ece",
   "metadata": {},
   "outputs": [],
   "source": []
  }
 ],
 "metadata": {
  "kernelspec": {
   "display_name": "Python 3 (ipykernel)",
   "language": "python",
   "name": "python3"
  },
  "language_info": {
   "codemirror_mode": {
    "name": "ipython",
    "version": 3
   },
   "file_extension": ".py",
   "mimetype": "text/x-python",
   "name": "python",
   "nbconvert_exporter": "python",
   "pygments_lexer": "ipython3",
   "version": "3.9.13"
  }
 },
 "nbformat": 4,
 "nbformat_minor": 5
}
