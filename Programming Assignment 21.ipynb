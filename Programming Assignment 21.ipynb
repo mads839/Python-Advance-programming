{
 "cells": [
  {
   "cell_type": "markdown",
   "id": "1de1f210",
   "metadata": {},
   "source": [
    "# 1. Given a sentence, return the number of words which have the same first and last letter."
   ]
  },
  {
   "cell_type": "code",
   "execution_count": 30,
   "id": "40f45ab3",
   "metadata": {},
   "outputs": [],
   "source": [
    "import re\n",
    "def count_same_ends(sentence):\n",
    "    words=sentence.split()\n",
    "    count=0\n",
    "    for word in words:\n",
    "        word=re.sub('[a-zA-z]',\"\",word)\n",
    "        if len(word) > 0 and word[0].lower()==word[-1].lower():\n",
    "            count+=1\n",
    "    return(count)\n",
    "    "
   ]
  },
  {
   "cell_type": "code",
   "execution_count": 31,
   "id": "0730a60b",
   "metadata": {},
   "outputs": [
    {
     "data": {
      "text/plain": [
       "1"
      ]
     },
     "execution_count": 31,
     "metadata": {},
     "output_type": "execute_result"
    }
   ],
   "source": [
    "count_same_ends(\"Pop! goes the balloon\") "
   ]
  },
  {
   "cell_type": "markdown",
   "id": "774fae87",
   "metadata": {},
   "source": [
    "# 2. The Atbash cipher is an encryption method in which each letter of a word is replaced with its \"mirror\" letter in the alphabet: A <=> Z; B <=> Y; C <=> X; etc.\n",
    "\n",
    "Create a function that takes a string and applies the Atbash cipher to it.\n",
    "\n"
   ]
  },
  {
   "cell_type": "code",
   "execution_count": 7,
   "id": "92619b55",
   "metadata": {},
   "outputs": [],
   "source": [
    "def atbash(text):\n",
    "    result=\"\"\n",
    "    for char in text:\n",
    "        if char.isalpha():\n",
    "            if char.isupper():\n",
    "                mirror_ord=155-ord(char)\n",
    "                result+=chr(mirror_ord)\n",
    "            else:\n",
    "                mirror_ord=219-ord(char)\n",
    "                result+=chr(mirror_ord)\n",
    "        else:\n",
    "            result+=char\n",
    "    return(result)\n",
    "        "
   ]
  },
  {
   "cell_type": "code",
   "execution_count": 8,
   "id": "cb8472ac",
   "metadata": {},
   "outputs": [
    {
     "data": {
      "text/plain": [
       "'zkkov'"
      ]
     },
     "execution_count": 8,
     "metadata": {},
     "output_type": "execute_result"
    }
   ],
   "source": [
    "atbash(\"apple\")"
   ]
  },
  {
   "cell_type": "markdown",
   "id": "c84eaf43",
   "metadata": {},
   "source": [
    "# 3. Create a class Employee that will take a full name as argument, as well as a set of none, one or more keywords. Each instance should have a name and a lastname attributes plus one more attribute for each of the keywords, if any.\n",
    "\n"
   ]
  },
  {
   "cell_type": "code",
   "execution_count": 1,
   "id": "df882a3c",
   "metadata": {},
   "outputs": [],
   "source": [
    "class Employee:\n",
    "    def __init__(self, full_name, **keywords):\n",
    "        self.name, self.lastname = full_name.split()\n",
    "        \n",
    "        for key, value in keywords.items():\n",
    "            setattr(self, key, value)"
   ]
  },
  {
   "cell_type": "code",
   "execution_count": 2,
   "id": "4623cdc4",
   "metadata": {},
   "outputs": [],
   "source": [
    "mary = Employee(\"Mary Major\", salary=120000)"
   ]
  },
  {
   "cell_type": "code",
   "execution_count": 3,
   "id": "010f9ea0",
   "metadata": {},
   "outputs": [
    {
     "data": {
      "text/plain": [
       "'Major'"
      ]
     },
     "execution_count": 3,
     "metadata": {},
     "output_type": "execute_result"
    }
   ],
   "source": [
    "mary.lastname "
   ]
  },
  {
   "cell_type": "code",
   "execution_count": null,
   "id": "ecb478f9",
   "metadata": {},
   "outputs": [],
   "source": [
    "class Employee:\n",
    "    def __init__(self,full_name,**keywords):\n",
    "        self.firstname,self.lastname=full_name.split()\n",
    "        for key,value in keywords.items():\n",
    "            setattr(self,key,value)\n",
    "        \n",
    "    "
   ]
  },
  {
   "cell_type": "code",
   "execution_count": 5,
   "id": "d901e573",
   "metadata": {},
   "outputs": [],
   "source": [
    "giancarlo = Employee(\"Giancarlo Rossi\", salary=115000, height=182, nationality=\"Italian\")"
   ]
  },
  {
   "cell_type": "code",
   "execution_count": 6,
   "id": "8b79df66",
   "metadata": {},
   "outputs": [
    {
     "data": {
      "text/plain": [
       "'Italian'"
      ]
     },
     "execution_count": 6,
     "metadata": {},
     "output_type": "execute_result"
    }
   ],
   "source": [
    "giancarlo.nationality "
   ]
  },
  {
   "cell_type": "code",
   "execution_count": null,
   "id": "2c3b6121",
   "metadata": {},
   "outputs": [],
   "source": []
  }
 ],
 "metadata": {
  "kernelspec": {
   "display_name": "Python 3 (ipykernel)",
   "language": "python",
   "name": "python3"
  },
  "language_info": {
   "codemirror_mode": {
    "name": "ipython",
    "version": 3
   },
   "file_extension": ".py",
   "mimetype": "text/x-python",
   "name": "python",
   "nbconvert_exporter": "python",
   "pygments_lexer": "ipython3",
   "version": "3.9.13"
  }
 },
 "nbformat": 4,
 "nbformat_minor": 5
}
