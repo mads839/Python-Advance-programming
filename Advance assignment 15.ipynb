{
 "cells": [
  {
   "cell_type": "code",
   "execution_count": null,
   "id": "9e06e21a",
   "metadata": {},
   "outputs": [],
   "source": [
    "1. Write a function that returns True if a given name can generate an array of words.\n",
    "\n"
   ]
  },
  {
   "cell_type": "code",
   "execution_count": 10,
   "id": "cead96aa",
   "metadata": {},
   "outputs": [],
   "source": [
    "def anagram(s,l1):\n",
    "    for i in l1:\n",
    "        for j in i:\n",
    "            if j in s :\n",
    "                return True\n",
    "            else: False"
   ]
  },
  {
   "cell_type": "code",
   "execution_count": 11,
   "id": "9420f71b",
   "metadata": {},
   "outputs": [
    {
     "data": {
      "text/plain": [
       "True"
      ]
     },
     "execution_count": 11,
     "metadata": {},
     "output_type": "execute_result"
    }
   ],
   "source": [
    "anagram(\"Justin Bieber\", [\"injures\", \"ebb\", \"it\"]) "
   ]
  },
  {
   "cell_type": "raw",
   "id": "b9e12537",
   "metadata": {},
   "source": [
    "3. Create a function that, given a phrase and a number of letters guessed, returns a string with hyphens - for every letter of the phrase not guessed, and each letter guessed in place"
   ]
  },
  {
   "cell_type": "code",
   "execution_count": 18,
   "id": "91622b4b",
   "metadata": {},
   "outputs": [],
   "source": [
    "def hangman(s,l):\n",
    "    for letter in s:\n",
    "        if letter.lower() not in l and letter!=\"''\":\n",
    "            s=s.replace(letter,'-')\n",
    "    return s"
   ]
  },
  {
   "cell_type": "code",
   "execution_count": 19,
   "id": "1b93dbf4",
   "metadata": {},
   "outputs": [
    {
     "data": {
      "text/plain": [
       "'-e---o--e-'"
      ]
     },
     "execution_count": 19,
     "metadata": {},
     "output_type": "execute_result"
    }
   ],
   "source": [
    "hangman(\"helicopter\", [\"o\", \"e\", \"s\"]) "
   ]
  },
  {
   "cell_type": "code",
   "execution_count": 20,
   "id": "d80538ce",
   "metadata": {},
   "outputs": [
    {
     "data": {
      "text/plain": [
       "'P----n-r----'"
      ]
     },
     "execution_count": 20,
     "metadata": {},
     "output_type": "execute_result"
    }
   ],
   "source": [
    "hangman(\"Python rules\", [\"a\", \"n\", \"p\", \"r\", \"z\"])"
   ]
  },
  {
   "cell_type": "raw",
   "id": "c6043def",
   "metadata": {},
   "source": [
    "5. Write a function that sorts a list of integers by their digit length in descending order, then settles ties by sorting numbers with the same digit length in ascending order."
   ]
  },
  {
   "cell_type": "code",
   "execution_count": 22,
   "id": "ddcbd30d",
   "metadata": {},
   "outputs": [
    {
     "name": "stdout",
     "output_type": "stream",
     "text": [
      "['101', '77', '23', '5', '7']\n",
      "[101, 23, 77, 5, 7]\n"
     ]
    }
   ],
   "source": [
    "def digit_sort(l):\n",
    "    \n",
    "    l = list(map(str,l))\n",
    "    \n",
    "    l = sorted(l, key = len, reverse=True)\n",
    "    print(l)\n",
    "    \n",
    "    for i in range(len(l)):\n",
    "        for j in range(i,len(l)):\n",
    "            if len(l[i]) == len(l[j]):\n",
    "                if l[j] < l[i]:\n",
    "                    temp = l[i]\n",
    "                    l[i] = l[j]\n",
    "    return list(map(int,l))\n",
    "print(digit_sort([77,23,5,7,101]))"
   ]
  },
  {
   "cell_type": "code",
   "execution_count": null,
   "id": "1ce1c1f0",
   "metadata": {},
   "outputs": [],
   "source": []
  }
 ],
 "metadata": {
  "kernelspec": {
   "display_name": "Python 3 (ipykernel)",
   "language": "python",
   "name": "python3"
  },
  "language_info": {
   "codemirror_mode": {
    "name": "ipython",
    "version": 3
   },
   "file_extension": ".py",
   "mimetype": "text/x-python",
   "name": "python",
   "nbconvert_exporter": "python",
   "pygments_lexer": "ipython3",
   "version": "3.9.13"
  }
 },
 "nbformat": 4,
 "nbformat_minor": 5
}
