{
 "cells": [
  {
   "cell_type": "code",
   "execution_count": 88,
   "id": "7c21f4ec",
   "metadata": {},
   "outputs": [],
   "source": [
    "#1. Create a function to perform basic arithmetic operations that includes addition, subtraction, multiplication and division on a string number (e.g. \"12 + 24\" or \"23 - 21\" or \"12 // 12\" or \"12 * 21\").\n",
    "def arithmetic_operation(s):\n",
    "    l=s.split()\n",
    "    l1=list(map(int,l[0:3:2]))\n",
    "    if(l[1]==\"+\"):\n",
    "        return(l1[0]+l1[1])\n",
    "    elif(l[1]==\"-\"):\n",
    "        return(l1[0]-l1[1])\n",
    "    elif(l[1]==\"*\"):\n",
    "        return(l1[0]*l1[1])\n",
    "    elif(l[1]==\"/\" and l[2]==\"0\"):\n",
    "        return(-1)\n",
    "    elif(l[1]==\"/\" and l[2!=\"0\"]):\n",
    "        return(l1[0]/l1[1]) \n",
    "    \n",
    "\n",
    "\n"
   ]
  },
  {
   "cell_type": "code",
   "execution_count": 76,
   "id": "1fba0f04",
   "metadata": {},
   "outputs": [
    {
     "data": {
      "text/plain": [
       "24"
      ]
     },
     "execution_count": 76,
     "metadata": {},
     "output_type": "execute_result"
    }
   ],
   "source": [
    "arithmetic_operation(\"12 + 12\") "
   ]
  },
  {
   "cell_type": "code",
   "execution_count": 89,
   "id": "70ea435c",
   "metadata": {},
   "outputs": [
    {
     "data": {
      "text/plain": [
       "-1"
      ]
     },
     "execution_count": 89,
     "metadata": {},
     "output_type": "execute_result"
    }
   ],
   "source": [
    "arithmetic_operation(\"12 / 0\") "
   ]
  },
  {
   "cell_type": "code",
   "execution_count": 90,
   "id": "605f5f33",
   "metadata": {},
   "outputs": [
    {
     "data": {
      "text/plain": [
       "1.0"
      ]
     },
     "execution_count": 90,
     "metadata": {},
     "output_type": "execute_result"
    }
   ],
   "source": [
    "arithmetic_operation(\"12 / 12\") "
   ]
  },
  {
   "cell_type": "code",
   "execution_count": 82,
   "id": "f5cee04b",
   "metadata": {},
   "outputs": [
    {
     "data": {
      "text/plain": [
       "0"
      ]
     },
     "execution_count": 82,
     "metadata": {},
     "output_type": "execute_result"
    }
   ],
   "source": [
    "arithmetic_operation(\"12 - 12\") "
   ]
  },
  {
   "cell_type": "code",
   "execution_count": 83,
   "id": "61ee505c",
   "metadata": {},
   "outputs": [
    {
     "data": {
      "text/plain": [
       "144"
      ]
     },
     "execution_count": 83,
     "metadata": {},
     "output_type": "execute_result"
    }
   ],
   "source": [
    "arithmetic_operation(\"12 * 12\") "
   ]
  },
  {
   "cell_type": "code",
   "execution_count": 1,
   "id": "ba245b72",
   "metadata": {},
   "outputs": [],
   "source": [
    "#2. Write a function that takes the coordinates of three points in the form of a 2d array and returns the perimeter of the triangle. The given points are the vertices of a triangle on a two-dimensional plane.\n",
    "import math\n",
    "def distance(xa,ya,xb,yb):\n",
    "    return(math.sqrt((xa-xb)*(xa-xb)+(ya-yb)*(ya-yb)))\n",
    "def perimeter(l):\n",
    "    return(round(distance(l[0][0],l[0][1],l[1][0],l[1][1])+distance(l[0][0],l[0][1],l[2][0],l[2][1])+distance(l[2][0],l[2][1],l[1][0],l[1][1]),2))\n"
   ]
  },
  {
   "cell_type": "code",
   "execution_count": 2,
   "id": "60a52e07",
   "metadata": {},
   "outputs": [
    {
     "data": {
      "text/plain": [
       "47.08"
      ]
     },
     "execution_count": 2,
     "metadata": {},
     "output_type": "execute_result"
    }
   ],
   "source": [
    "perimeter( [ [15, 7], [5, 22], [11, 1] ] ) "
   ]
  },
  {
   "cell_type": "code",
   "execution_count": 3,
   "id": "913b6618",
   "metadata": {},
   "outputs": [
    {
     "data": {
      "text/plain": [
       "3.41"
      ]
     },
     "execution_count": 3,
     "metadata": {},
     "output_type": "execute_result"
    }
   ],
   "source": [
    "perimeter( [ [0, 0], [0, 1], [1, 0] ] ) "
   ]
  },
  {
   "cell_type": "code",
   "execution_count": 4,
   "id": "1322b5fd",
   "metadata": {},
   "outputs": [
    {
     "data": {
      "text/plain": [
       "47.08"
      ]
     },
     "execution_count": 4,
     "metadata": {},
     "output_type": "execute_result"
    }
   ],
   "source": [
    "perimeter( [ [15, 7], [5, 22], [11, 1] ] ) "
   ]
  },
  {
   "cell_type": "code",
   "execution_count": 19,
   "id": "272d90b9",
   "metadata": {},
   "outputs": [],
   "source": [
    "#3. A city skyline can be represented as a 2-D list with 1s representing buildings. In the example below, the height of the tallest building is 4 (second-most right column).\n",
    "def tallest_skyscraper(l):\n",
    "    arr=np.array(l)\n",
    "    height=[]\n",
    "    for i in range(len(arr)):\n",
    "        height.append((arr[:,i]==1).sum())\n",
    "    return max(height)\n"
   ]
  },
  {
   "cell_type": "code",
   "execution_count": 20,
   "id": "6ecb65ee",
   "metadata": {},
   "outputs": [
    {
     "data": {
      "text/plain": [
       "4"
      ]
     },
     "execution_count": 20,
     "metadata": {},
     "output_type": "execute_result"
    }
   ],
   "source": [
    "tallest_skyscraper([\n",
    "  [0, 1, 0, 0],\n",
    "  [0, 1, 0, 0],\n",
    "  [0, 1, 1, 0],\n",
    "  [1, 1, 1, 1]\n",
    "])\n"
   ]
  },
  {
   "cell_type": "code",
   "execution_count": 6,
   "id": "c8ce4fba",
   "metadata": {},
   "outputs": [],
   "source": [
    "# 4. A financial institution provides professional services to banks and claims charges from the customers based on the number of man-days provided. Internally, it has set a scheme to motivate and reward staff to meet and exceed targeted billable utilization and revenues by paying a bonus for each day claimed from customers in excess of a threshold target.\n",
    "\n",
    "# This quarterly scheme is calculated with a threshold target of 32 days per quarter, and the incentive payment for each billable day in excess of such threshold target is shown as follows:\n",
    "\n",
    "# Days\t                             Bonus\n",
    "# 0 to 32 days\t                   Zero\n",
    "# 33 to 40 days\t         SGD$325 per billable day\n",
    "# 41 to 48 days\t         SGD$550 per billable day\n",
    "# Greater than 48 days      SGD$600 per billable day\n",
    "\n",
    "# Please note that incentive payment is calculated progressively. As an example, if an employee reached total billable days of 45 in a quarter, his/her incentive payment is computed as follows:\n",
    "\n",
    "# 32*0 + 8*325 + 5*550 = 5350\n",
    "\n",
    "# Write a function to read the billable days of an employee and return the bonus he/she has obtained in that quarter.\n",
    "def bonus(days):\n",
    "    if days< 32:\n",
    "        return 0\n",
    "    elif(days>32 and days <41):\n",
    "        return (days-32)*325\n",
    "    elif(days>40 and days <49):\n",
    "         return (8*325)+(days-48)*550\n",
    "    elif(days>48):\n",
    "         return (8*325)+(8*550)+(days-48)*600\n",
    "\n"
   ]
  },
  {
   "cell_type": "code",
   "execution_count": 7,
   "id": "8bb9b66d",
   "metadata": {},
   "outputs": [
    {
     "data": {
      "text/plain": [
       "8200"
      ]
     },
     "execution_count": 7,
     "metadata": {},
     "output_type": "execute_result"
    }
   ],
   "source": [
    "bonus(50) "
   ]
  },
  {
   "cell_type": "code",
   "execution_count": 107,
   "id": "36bcefb7",
   "metadata": {},
   "outputs": [],
   "source": [
    "#5. A number is said to be Disarium if the sum of its digits raised to their respective positions is the number itself.\n",
    "def is_disarium(n):\n",
    "    sum=0\n",
    "    l=list(map(int,str(n)))\n",
    "    for i in range(0,len(l))b\n",
    "        sum=sum+l[i]**(i+1)\n",
    "    if sum==n:\n",
    "        return True\n",
    "    else:\n",
    "        return False\n",
    "           "
   ]
  },
  {
   "cell_type": "code",
   "execution_count": 108,
   "id": "30151879",
   "metadata": {},
   "outputs": [
    {
     "data": {
      "text/plain": [
       "False"
      ]
     },
     "execution_count": 108,
     "metadata": {},
     "output_type": "execute_result"
    }
   ],
   "source": [
    "is_disarium(544) "
   ]
  },
  {
   "cell_type": "code",
   "execution_count": 109,
   "id": "b4e116b7",
   "metadata": {},
   "outputs": [
    {
     "data": {
      "text/plain": [
       "True"
      ]
     },
     "execution_count": 109,
     "metadata": {},
     "output_type": "execute_result"
    }
   ],
   "source": [
    "is_disarium(135) "
   ]
  },
  {
   "cell_type": "code",
   "execution_count": null,
   "id": "1db52835",
   "metadata": {},
   "outputs": [],
   "source": []
  }
 ],
 "metadata": {
  "kernelspec": {
   "display_name": "Python 3 (ipykernel)",
   "language": "python",
   "name": "python3"
  },
  "language_info": {
   "codemirror_mode": {
    "name": "ipython",
    "version": 3
   },
   "file_extension": ".py",
   "mimetype": "text/x-python",
   "name": "python",
   "nbconvert_exporter": "python",
   "pygments_lexer": "ipython3",
   "version": "3.9.13"
  }
 },
 "nbformat": 4,
 "nbformat_minor": 5
}
