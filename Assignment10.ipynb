{
 "cells": [
  {
   "cell_type": "code",
   "execution_count": 13,
   "metadata": {},
   "outputs": [],
   "source": [
    "# 2. Write three functions:\n",
    "#   1. boolean_and\n",
    "#   2. boolean_or\n",
    "#   3. boolean_xor\n",
    "# These functions should evaluate a list of True and False values, starting from the leftmost element and evaluating pairwise.\n",
    "def boolean_and(l):\n",
    "    res = True\n",
    "    i = 0\n",
    "    while i < len(l):\n",
    "        res = res and l[i]\n",
    "        l.pop(i)\n",
    "        l[0] = res\n",
    "        i += 1\n",
    "    return l[0] and l[1]\n",
    "def boolean_or(l):\n",
    "    res = False\n",
    "    i = 0\n",
    "    while i < len(l):\n",
    "        res = res or l[i]\n",
    "        l.pop(i)\n",
    "        l[0] = res\n",
    "        i += 1\n",
    "    return l[0] or l[1]\n",
    "def boolean_xor(l):\n",
    "    res = True\n",
    "    i = 0\n",
    "    while i < len(l):\n",
    "        res = res ^ l[i]\n",
    "        l.pop(i)\n",
    "        l[0] = res\n",
    "        i += 1\n",
    "    return l[0] ^ l[1]\n"
   ]
  },
  {
   "cell_type": "code",
   "execution_count": 23,
   "metadata": {},
   "outputs": [
    {
     "data": {
      "text/plain": [
       "False"
      ]
     },
     "execution_count": 23,
     "metadata": {},
     "output_type": "execute_result"
    }
   ],
   "source": [
    "boolean_and([True, True, False, True]) "
   ]
  },
  {
   "cell_type": "code",
   "execution_count": 24,
   "metadata": {},
   "outputs": [
    {
     "data": {
      "text/plain": [
       "True"
      ]
     },
     "execution_count": 24,
     "metadata": {},
     "output_type": "execute_result"
    }
   ],
   "source": [
    "boolean_or([True, True, False, False]) "
   ]
  },
  {
   "cell_type": "code",
   "execution_count": 25,
   "metadata": {},
   "outputs": [
    {
     "data": {
      "text/plain": [
       "False"
      ]
     },
     "execution_count": 25,
     "metadata": {},
     "output_type": "execute_result"
    }
   ],
   "source": [
    "boolean_xor([True, True, False, False])"
   ]
  },
  {
   "cell_type": "code",
   "execution_count": 27,
   "metadata": {},
   "outputs": [],
   "source": [
    "#4. Given a common phrase, return False if any individual word in the phrase contains duplicate letters. Return True otherwise.\n",
    "def no_duplicate_letters(s):\n",
    "    words = s.split()\n",
    "    for word in words:\n",
    "        for letter in word:\n",
    "            if word.count(letter) > 1:\n",
    "                return False\n",
    "\n",
    "    return True"
   ]
  },
  {
   "cell_type": "code",
   "execution_count": 29,
   "metadata": {},
   "outputs": [
    {
     "data": {
      "text/plain": [
       "True"
      ]
     },
     "execution_count": 29,
     "metadata": {},
     "output_type": "execute_result"
    }
   ],
   "source": [
    "no_duplicate_letters(\"Fortune favours the bold.\")"
   ]
  },
  {
   "cell_type": "code",
   "execution_count": 30,
   "metadata": {},
   "outputs": [
    {
     "data": {
      "text/plain": [
       "True"
      ]
     },
     "execution_count": 30,
     "metadata": {},
     "output_type": "execute_result"
    }
   ],
   "source": [
    "no_duplicate_letters(\"You can lead a horse to water, but you can't make him drink.\") "
   ]
  },
  {
   "cell_type": "code",
   "execution_count": 3,
   "metadata": {},
   "outputs": [
    {
     "name": "stdout",
     "output_type": "stream",
     "text": [
      "['California', 'Florida']\n"
     ]
    }
   ],
   "source": [
    "#5. Write a regular expression that will match the states that voted yes to President Trump's impeachment. You must use RegEx positive lookahead.\n",
    "import re\n",
    "txt = \"Texas = no, California = yes, Florida = yes, Michigan = no\"\n",
    "pattern=r'[a-zA-Z]+(?= = yes)'\n",
    "match=re.findall(pattern,txt)\n",
    "print(match)\n"
   ]
  },
  {
   "cell_type": "code",
   "execution_count": null,
   "metadata": {},
   "outputs": [],
   "source": []
  }
 ],
 "metadata": {
  "kernelspec": {
   "display_name": "Python 3",
   "language": "python",
   "name": "python3"
  },
  "language_info": {
   "codemirror_mode": {
    "name": "ipython",
    "version": 3
   },
   "file_extension": ".py",
   "mimetype": "text/x-python",
   "name": "python",
   "nbconvert_exporter": "python",
   "pygments_lexer": "ipython3",
   "version": "3.8.3"
  }
 },
 "nbformat": 4,
 "nbformat_minor": 4
}
