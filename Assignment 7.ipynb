{
 "cells": [
  {
   "cell_type": "code",
   "execution_count": 1,
   "id": "144db341",
   "metadata": {},
   "outputs": [],
   "source": [
    "#1. Write a function that counts how many concentric layers a rug.\n",
    "\n",
    "import numpy as np\n",
    "def count_layers(arr):\n",
    "    arr1=np.unique(arr)\n",
    "    return arr1.size"
   ]
  },
  {
   "cell_type": "code",
   "execution_count": 4,
   "id": "9bcecdf0",
   "metadata": {},
   "outputs": [
    {
     "data": {
      "text/plain": [
       "2"
      ]
     },
     "execution_count": 4,
     "metadata": {},
     "output_type": "execute_result"
    }
   ],
   "source": [
    "count_layers([\"AAAA\",\"ABBA\",\"AAAA\"])\n"
   ]
  },
  {
   "cell_type": "code",
   "execution_count": 10,
   "id": "07a8d2c2",
   "metadata": {},
   "outputs": [],
   "source": [
    "#2. There are many different styles of music and many albums exhibit multiple styles. Create a function that takes a list of musical styles from albums and returns how many styles are unique.\n",
    "import numpy as np\n",
    "l1=[]\n",
    "def unique_styles(l):\n",
    "    for i in l:\n",
    "        i=i.split(\",\")\n",
    "        for j in i:\n",
    "            l1.append(j)\n",
    "    return len((set(l1)))\n",
    "            \n"
   ]
  },
  {
   "cell_type": "code",
   "execution_count": 11,
   "id": "a5c431c9",
   "metadata": {},
   "outputs": [
    {
     "data": {
      "text/plain": [
       "9"
      ]
     },
     "execution_count": 11,
     "metadata": {},
     "output_type": "execute_result"
    }
   ],
   "source": [
    "unique_styles([\n",
    "  \"Dub,Dancehall\",\n",
    "  \"Industrial,Heavy Metal\",\n",
    "  \"Techno,Dubstep\",\n",
    "  \"Synth-pop,Euro-Disco\",\n",
    "  \"Industrial,Techno,Minimal\"\n",
    "]) \n"
   ]
  },
  {
   "cell_type": "code",
   "execution_count": 33,
   "id": "ab4938b2",
   "metadata": {},
   "outputs": [],
   "source": [
    "#4. Create a function that takes in n, a, b and returns the number of positive values raised to the nth power that lie in the range [a, b], inclusive.\n",
    "def power_ranger(n,a,b):\n",
    "    count=0\n",
    "    a1=int(a**(1/n))\n",
    "    b1=int(b**(1/n))\n",
    "    for i in range(a1,b1+1):\n",
    "        if i**n in range(a,b+1):\n",
    "            count=count+1\n",
    "    return(count)\n"
   ]
  },
  {
   "cell_type": "code",
   "execution_count": 34,
   "id": "2a3df398",
   "metadata": {},
   "outputs": [
    {
     "data": {
      "text/plain": [
       "2"
      ]
     },
     "execution_count": 34,
     "metadata": {},
     "output_type": "execute_result"
    }
   ],
   "source": [
    "power_ranger(2, 49, 65) "
   ]
  },
  {
   "cell_type": "code",
   "execution_count": 25,
   "id": "5e1bfb3e",
   "metadata": {},
   "outputs": [],
   "source": [
    "#5. Create a function that finds a target number in a list of prime numbers. Implement a binary search algorithm in your function. The target number will be from 2 through 97. If the target is prime then return \"yes\" else return \"no\".\n",
    "\n",
    "def rearranged_difference(n):\n",
    "    n=str(n)\n",
    "    nl,nh=\"\",\"\"\n",
    "    nhigh=sorted(n,reverse =True)\n",
    "    nlow=sorted(n)\n",
    "    for i in nhigh:\n",
    "        nh+=\"\".join(i)\n",
    "    for j in nlow:\n",
    "        nl+=\"\".join(j)\n",
    "    return (int(nh)-int(nl))"
   ]
  },
  {
   "cell_type": "code",
   "execution_count": 26,
   "id": "31a10d4c",
   "metadata": {},
   "outputs": [
    {
     "data": {
      "text/plain": [
       "760833"
      ]
     },
     "execution_count": 26,
     "metadata": {},
     "output_type": "execute_result"
    }
   ],
   "source": [
    "rearranged_difference(972882)"
   ]
  },
  {
   "cell_type": "code",
   "execution_count": null,
   "id": "ea13543e",
   "metadata": {},
   "outputs": [],
   "source": []
  }
 ],
 "metadata": {
  "kernelspec": {
   "display_name": "Python 3 (ipykernel)",
   "language": "python",
   "name": "python3"
  },
  "language_info": {
   "codemirror_mode": {
    "name": "ipython",
    "version": 3
   },
   "file_extension": ".py",
   "mimetype": "text/x-python",
   "name": "python",
   "nbconvert_exporter": "python",
   "pygments_lexer": "ipython3",
   "version": "3.9.13"
  }
 },
 "nbformat": 4,
 "nbformat_minor": 5
}
