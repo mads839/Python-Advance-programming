{
 "cells": [
  {
   "cell_type": "raw",
   "metadata": {},
   "source": [
    "# 1. Given a list of numbers, create a function that removes 25% from every number in the list except the smallest number, and adds the total amount removed to the smallest number."
   ]
  },
  {
   "cell_type": "code",
   "execution_count": 20,
   "metadata": {},
   "outputs": [],
   "source": [
    "def show_the_love(l):\n",
    "    small_no=min(l)\n",
    "    index=l.index(small_no)\n",
    "    j=0\n",
    "    for i in range(len(l)):\n",
    "        if (l[i]!=small_no):\n",
    "            k=l[i]*0.25\n",
    "            l[i]=l[i]-k\n",
    "            j+=k\n",
    "        #l1.append(int(l[i]))\n",
    "    l[index]=small_no+j\n",
    "    l=[int(i) if i==int(i) else i for i in l]\n",
    "        #l1.remove(small_no)\n",
    "    return(l)\n",
    "    "
   ]
  },
  {
   "cell_type": "code",
   "execution_count": 21,
   "metadata": {},
   "outputs": [
    {
     "data": {
      "text/plain": [
       "[3, 3, 3]"
      ]
     },
     "execution_count": 21,
     "metadata": {},
     "output_type": "execute_result"
    }
   ],
   "source": [
    "show_the_love([4, 1, 4]) "
   ]
  },
  {
   "cell_type": "code",
   "execution_count": 22,
   "metadata": {},
   "outputs": [
    {
     "data": {
      "text/plain": [
       "[12, 7.5, 14.5]"
      ]
     },
     "execution_count": 22,
     "metadata": {},
     "output_type": "execute_result"
    }
   ],
   "source": [
    "(show_the_love([16, 10, 8]))"
   ]
  },
  {
   "cell_type": "code",
   "execution_count": 23,
   "metadata": {},
   "outputs": [
    {
     "data": {
      "text/plain": [
       "[27, 75]"
      ]
     },
     "execution_count": 23,
     "metadata": {},
     "output_type": "execute_result"
    }
   ],
   "source": [
    "(show_the_love([2, 100]))"
   ]
  },
  {
   "cell_type": "code",
   "execution_count": null,
   "metadata": {},
   "outputs": [],
   "source": [
    "2. Create a function that takes in two words as input and returns a list of three elements, in the following order:"
   ]
  },
  {
   "cell_type": "code",
   "execution_count": 36,
   "metadata": {},
   "outputs": [],
   "source": [
    "def letters(word1,word2):\n",
    "    common=''\n",
    "    for i in set(word1) & set(word2):\n",
    "        common+=''.join(i)\n",
    "    unique1=''\n",
    "    for i in set(word1).difference(set(word2)):\n",
    "        unique1+=''.join(i)\n",
    "    unique2=''\n",
    "    for i in set(word2).difference(set(word1)):\n",
    "        unique2+=''.join(i)\n",
    "    return common,unique1,unique2"
   ]
  },
  {
   "cell_type": "code",
   "execution_count": 37,
   "metadata": {},
   "outputs": [
    {
     "data": {
      "text/plain": [
       "('asp', 'rh', 'o')"
      ]
     },
     "execution_count": 37,
     "metadata": {},
     "output_type": "execute_result"
    }
   ],
   "source": [
    "letters(\"sharp\", \"soap\") "
   ]
  },
  {
   "cell_type": "code",
   "execution_count": null,
   "metadata": {},
   "outputs": [],
   "source": [
    "3. Write a function that pairs the first number in an array with the last, the second number with the second to last, etc."
   ]
  },
  {
   "cell_type": "code",
   "execution_count": 23,
   "metadata": {},
   "outputs": [],
   "source": [
    "import math\n",
    "def pairs(l):\n",
    "    l2=[]\n",
    "    for i in range(math.ceil(len(l)/2)):\n",
    "            l1=[]\n",
    "            l1.append(l[i])\n",
    "            l1.append(l[len(l)-i-1])\n",
    "            l2.append(l1)\n",
    "    return(l2)"
   ]
  },
  {
   "cell_type": "code",
   "execution_count": 24,
   "metadata": {},
   "outputs": [
    {
     "data": {
      "text/plain": [
       "[[1, 7], [2, 6], [3, 5], [4, 4]]"
      ]
     },
     "execution_count": 24,
     "metadata": {},
     "output_type": "execute_result"
    }
   ],
   "source": [
    "pairs([1, 2, 3, 4, 5, 6, 7]) "
   ]
  },
  {
   "cell_type": "code",
   "execution_count": null,
   "metadata": {},
   "outputs": [],
   "source": [
    "4. Write a function that adds two numbers. The catch, however, is that the numbers will be strings"
   ]
  },
  {
   "cell_type": "code",
   "execution_count": 35,
   "metadata": {},
   "outputs": [],
   "source": [
    "def add_str_nums(s1,s2):\n",
    "    if s1 !='' and s2 !='':\n",
    "        if(s1.isnumeric() and s2.isnumeric()):\n",
    "            return(str(int(s1)+int(s2)))\n",
    "        else:\n",
    "            return -1\n",
    "    else:\n",
    "         return s1 + s2\n",
    "    \n",
    "                \n",
    "    "
   ]
  },
  {
   "cell_type": "code",
   "execution_count": 36,
   "metadata": {},
   "outputs": [
    {
     "data": {
      "text/plain": [
       "'9'"
      ]
     },
     "execution_count": 36,
     "metadata": {},
     "output_type": "execute_result"
    }
   ],
   "source": [
    "add_str_nums(\"4\", \"5\") "
   ]
  },
  {
   "cell_type": "code",
   "execution_count": 38,
   "metadata": {},
   "outputs": [
    {
     "data": {
      "text/plain": [
       "-1"
      ]
     },
     "execution_count": 38,
     "metadata": {},
     "output_type": "execute_result"
    }
   ],
   "source": [
    "add_str_nums(\"abcdefg\", \"3\")"
   ]
  },
  {
   "cell_type": "code",
   "execution_count": null,
   "metadata": {},
   "outputs": [],
   "source": [
    "5. lPaeesh le pemu mnxit ehess rtnisg! Oh, sorry, that was supposed to say: Please help me unmix these strings!\n",
    "\n",
    "Somehow my strings have all become mixed up; every pair of characters has been swapped. Help me undo this so I can understand my strings again.\n"
   ]
  },
  {
   "cell_type": "code",
   "execution_count": 24,
   "metadata": {},
   "outputs": [],
   "source": [
    "def unmix(s):\n",
    "    length=len(s)\n",
    "    if (length%2)!=0:\n",
    "        length=length-1\n",
    "    l=list(s)\n",
    "    i=0\n",
    "    while True:\n",
    "        if i==length:\n",
    "            break\n",
    "        else:   \n",
    "            l[i],l[i+1]=l[i+1],l[i]\n",
    "            i+=2\n",
    "    c=''\n",
    "    for i in l:\n",
    "        c+=''.join(i)\n",
    "    return c"
   ]
  },
  {
   "cell_type": "code",
   "execution_count": 25,
   "metadata": {},
   "outputs": [
    {
     "data": {
      "text/plain": [
       "'214365'"
      ]
     },
     "execution_count": 25,
     "metadata": {},
     "output_type": "execute_result"
    }
   ],
   "source": [
    "unmix(\"123456\")\n"
   ]
  },
  {
   "cell_type": "code",
   "execution_count": 26,
   "metadata": {},
   "outputs": [
    {
     "data": {
      "text/plain": [
       "'abcde'"
      ]
     },
     "execution_count": 26,
     "metadata": {},
     "output_type": "execute_result"
    }
   ],
   "source": [
    "unmix(\"badce\") "
   ]
  },
  {
   "cell_type": "code",
   "execution_count": 17,
   "metadata": {},
   "outputs": [
    {
     "data": {
      "text/plain": [
       "'abcde'"
      ]
     },
     "execution_count": 17,
     "metadata": {},
     "output_type": "execute_result"
    }
   ],
   "source": [
    "unmix(\"badce\") "
   ]
  },
  {
   "cell_type": "code",
   "execution_count": null,
   "metadata": {},
   "outputs": [],
   "source": []
  }
 ],
 "metadata": {
  "kernelspec": {
   "display_name": "Python 3 (ipykernel)",
   "language": "python",
   "name": "python3"
  },
  "language_info": {
   "codemirror_mode": {
    "name": "ipython",
    "version": 3
   },
   "file_extension": ".py",
   "mimetype": "text/x-python",
   "name": "python",
   "nbconvert_exporter": "python",
   "pygments_lexer": "ipython3",
   "version": "3.9.13"
  }
 },
 "nbformat": 4,
 "nbformat_minor": 4
}
