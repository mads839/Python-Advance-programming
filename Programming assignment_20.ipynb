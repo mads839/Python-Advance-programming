{
 "cells": [
  {
   "cell_type": "markdown",
   "id": "fa8d378b",
   "metadata": {},
   "source": [
    "# 1. Create a function based on the input and output. Look at the examples, there is a pattern.\n",
    "\n",
    "Examples\n",
    "\n",
    "secret(\"p.one.two.three\") ➞ \"<p class='one two three'></p>\"\n",
    "\n",
    "secret(\"p.one\") ➞ \"<p class='one'></p>\"\n",
    "\n",
    "secret(\"p.four.five\") ➞ \"<p class='four five'></p>\"\n",
    "\n"
   ]
  },
  {
   "cell_type": "code",
   "execution_count": 7,
   "id": "3bcc7d5e",
   "metadata": {},
   "outputs": [],
   "source": [
    "def secret(s):\n",
    "    list1=s.split(\".\")\n",
    "    s1=\"\"\n",
    "    s1+=\"<\"+list1[0]+\" class='\"\n",
    "    for i in range(1,len(list1)):\n",
    "        s1+=list1[i] +\" \"\n",
    "    return (s1.strip()+\"'></p>\")\n",
    "        \n",
    "        "
   ]
  },
  {
   "cell_type": "code",
   "execution_count": 8,
   "id": "11d20a51",
   "metadata": {},
   "outputs": [
    {
     "data": {
      "text/plain": [
       "\"<p class='one two three'></p>\""
      ]
     },
     "execution_count": 8,
     "metadata": {},
     "output_type": "execute_result"
    }
   ],
   "source": [
    "secret(\"p.one.two.three\") "
   ]
  },
  {
   "cell_type": "markdown",
   "id": "c8b0f706",
   "metadata": {},
   "source": [
    "# 2. Create a function which counts how many lone 1s appear in a given number. Lone means the number doesn't appear twice or more in a row."
   ]
  },
  {
   "cell_type": "code",
   "execution_count": 13,
   "id": "64f71879",
   "metadata": {},
   "outputs": [],
   "source": [
    "def count_lone_ones(n):\n",
    "    n=str(n)\n",
    "    count=0\n",
    "    for i in range(0,len(n)):\n",
    "        if n[i]==\"1\" and n[i-1]!=\"1\":\n",
    "            count+=1\n",
    "    return(count)"
   ]
  },
  {
   "cell_type": "code",
   "execution_count": 14,
   "id": "826e2f00",
   "metadata": {},
   "outputs": [
    {
     "data": {
      "text/plain": [
       "1"
      ]
     },
     "execution_count": 14,
     "metadata": {},
     "output_type": "execute_result"
    }
   ],
   "source": [
    "count_lone_ones(101) "
   ]
  },
  {
   "cell_type": "code",
   "execution_count": 15,
   "id": "2f058181",
   "metadata": {},
   "outputs": [
    {
     "data": {
      "text/plain": [
       "1"
      ]
     },
     "execution_count": 15,
     "metadata": {},
     "output_type": "execute_result"
    }
   ],
   "source": [
    "count_lone_ones(1191) "
   ]
  },
  {
   "cell_type": "code",
   "execution_count": 16,
   "id": "a7be8956",
   "metadata": {},
   "outputs": [
    {
     "data": {
      "text/plain": [
       "0"
      ]
     },
     "execution_count": 16,
     "metadata": {},
     "output_type": "execute_result"
    }
   ],
   "source": [
    "count_lone_ones(1111) "
   ]
  },
  {
   "cell_type": "code",
   "execution_count": 17,
   "id": "d9664b77",
   "metadata": {},
   "outputs": [
    {
     "data": {
      "text/plain": [
       "0"
      ]
     },
     "execution_count": 17,
     "metadata": {},
     "output_type": "execute_result"
    }
   ],
   "source": [
    "count_lone_ones(462) "
   ]
  },
  {
   "cell_type": "markdown",
   "id": "05375307",
   "metadata": {},
   "source": [
    "# 3. Write a method that accepts two integer parameters rows and cols. The output is a 2d array of numbers displayed in column-major order, meaning the numbers shown increase sequentially down each column and wrap to the top of the next column to the right once the bottom of the current column is reached."
   ]
  },
  {
   "cell_type": "code",
   "execution_count": 33,
   "id": "4f963e3f",
   "metadata": {},
   "outputs": [],
   "source": [
    "def printGrid(rows, columns):\n",
    "    l=[]\n",
    "    for i in range(rows):\n",
    "        l2=[]\n",
    "        for j in range(columns):\n",
    "            n=(i+1)+(j*rows)\n",
    "            l2.append(n)\n",
    "        l.append(l2)\n",
    "    return(l)"
   ]
  },
  {
   "cell_type": "code",
   "execution_count": 34,
   "id": "e65a697b",
   "metadata": {},
   "outputs": [
    {
     "data": {
      "text/plain": [
       "[[1, 4, 7, 10, 13, 16], [2, 5, 8, 11, 14, 17], [3, 6, 9, 12, 15, 18]]"
      ]
     },
     "execution_count": 34,
     "metadata": {},
     "output_type": "execute_result"
    }
   ],
   "source": [
    "printGrid(3, 6) \n"
   ]
  },
  {
   "cell_type": "markdown",
   "id": "dddb8741",
   "metadata": {},
   "source": [
    "# 4. Given a list of integers, return the smallest positive integer not present in the list."
   ]
  },
  {
   "cell_type": "code",
   "execution_count": 21,
   "id": "8b0d52e8",
   "metadata": {},
   "outputs": [],
   "source": [
    "def min_miss_pos(l):\n",
    "    n=max(l)\n",
    "    for i in range(0,n):\n",
    "        if i>0 and i not in l:\n",
    "            return i"
   ]
  },
  {
   "cell_type": "code",
   "execution_count": 22,
   "id": "579464b7",
   "metadata": {},
   "outputs": [
    {
     "data": {
      "text/plain": [
       "8"
      ]
     },
     "execution_count": 22,
     "metadata": {},
     "output_type": "execute_result"
    }
   ],
   "source": [
    "min_miss_pos([-2, 6, 4, 5, 7, -1, 1, 3, 6, -2, 9, 10, 2, 2]) "
   ]
  },
  {
   "cell_type": "code",
   "execution_count": 23,
   "id": "a393313d",
   "metadata": {},
   "outputs": [
    {
     "data": {
      "text/plain": [
       "2"
      ]
     },
     "execution_count": 23,
     "metadata": {},
     "output_type": "execute_result"
    }
   ],
   "source": [
    "min_miss_pos([5, 9, -2, 0, 1, 3, 9, 3, 8, 9]) "
   ]
  },
  {
   "cell_type": "code",
   "execution_count": 24,
   "id": "6394f929",
   "metadata": {},
   "outputs": [
    {
     "data": {
      "text/plain": [
       "1"
      ]
     },
     "execution_count": 24,
     "metadata": {},
     "output_type": "execute_result"
    }
   ],
   "source": [
    "min_miss_pos([0, 4, 4, -1, 9, 4, 5, 2, 10, 7, 6, 3, 10, 9]) "
   ]
  },
  {
   "cell_type": "code",
   "execution_count": null,
   "id": "62e85119",
   "metadata": {},
   "outputs": [],
   "source": []
  }
 ],
 "metadata": {
  "kernelspec": {
   "display_name": "Python 3 (ipykernel)",
   "language": "python",
   "name": "python3"
  },
  "language_info": {
   "codemirror_mode": {
    "name": "ipython",
    "version": 3
   },
   "file_extension": ".py",
   "mimetype": "text/x-python",
   "name": "python",
   "nbconvert_exporter": "python",
   "pygments_lexer": "ipython3",
   "version": "3.9.13"
  }
 },
 "nbformat": 4,
 "nbformat_minor": 5
}
