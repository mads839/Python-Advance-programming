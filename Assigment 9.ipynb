{
 "cells": [
  {
   "cell_type": "code",
   "execution_count": null,
   "id": "5d02b7f2",
   "metadata": {},
   "outputs": [],
   "source": [
    "#1. YouTube offers different playback speed options for users. This allows users to increase or decrease the speed of the video content. Given the actual duration and playback speed of the video, calculate the playback duration of the video.\n",
    "\n"
   ]
  },
  {
   "cell_type": "code",
   "execution_count": 5,
   "id": "56cf3a26",
   "metadata": {},
   "outputs": [],
   "source": [
    "# 2. We needs your help to construct a building which will be a pile of n cubes. The cube at the bottom will have a volume of n^3, the cube above will have volume of (n-1)^3 and so on until the top which will have a volume of 1^3.\n",
    "\n",
    "# Given the total volume m of the building, can you find the number of cubes n required for the building?\n",
    "\n",
    "# In other words, you have to return an integer n such that:\n",
    "\n",
    "# n^3 + (n-1)^3 + ... + 1^3 == m\n",
    "\n",
    "# Return None if there is no such number.\n",
    "def pile_of_cubes(m):\n",
    "    i=0\n",
    "    sum1=0\n",
    "    while True:\n",
    "        sum1=sum1+(i)**3\n",
    "        if sum1==m:\n",
    "            break\n",
    "        elif sum1>m:\n",
    "            return (\"None\")\n",
    "        i=i+1\n",
    "    return(i)\n"
   ]
  },
  {
   "cell_type": "code",
   "execution_count": 6,
   "id": "e91e0cef",
   "metadata": {},
   "outputs": [
    {
     "data": {
      "text/plain": [
       "45"
      ]
     },
     "execution_count": 6,
     "metadata": {},
     "output_type": "execute_result"
    }
   ],
   "source": [
    "pile_of_cubes(1071225) "
   ]
  },
  {
   "cell_type": "code",
   "execution_count": 7,
   "id": "c08c53db",
   "metadata": {},
   "outputs": [
    {
     "data": {
      "text/plain": [
       "2022"
      ]
     },
     "execution_count": 7,
     "metadata": {},
     "output_type": "execute_result"
    }
   ],
   "source": [
    "pile_of_cubes(4183059834009) "
   ]
  },
  {
   "cell_type": "code",
   "execution_count": 27,
   "id": "7fedddff",
   "metadata": {},
   "outputs": [],
   "source": [
    "#3. A fulcrum of a list is an integer such that all elements to the left of it and all elements to the right of it sum to the same value. Write a function that finds the fulcrum of a list.\n",
    "\n",
    "def find_fulcrum(l):\n",
    "    for i in range(1,len(l)):\n",
    "        if sum(l[:i])==sum(l[i+1:]):\n",
    "            return (l[i])\n",
    "\n"
   ]
  },
  {
   "cell_type": "code",
   "execution_count": 28,
   "id": "924913f6",
   "metadata": {},
   "outputs": [
    {
     "data": {
      "text/plain": [
       "1"
      ]
     },
     "execution_count": 28,
     "metadata": {},
     "output_type": "execute_result"
    }
   ],
   "source": [
    "find_fulcrum([9, 1, 9])"
   ]
  },
  {
   "cell_type": "code",
   "execution_count": 44,
   "id": "bdb405f3",
   "metadata": {},
   "outputs": [],
   "source": [
    "#4. Given a list of integers representing the color of each sock, determine how many pairs of socks with matching colors there are. For example, there are 7 socks with colors [1, 2, 1, 2, 1, 3, 2]. There is one pair of color 1 and one of color 2. There are three odd socks left, one of each color. The number of pairs is 2.\n",
    "\n",
    "#Create a function that returns an integer representing the number of matching pairs of socks that are available.\n",
    "\n",
    "def sock_merchant(l):\n",
    "    count=0\n",
    "    l1=list(set(l))\n",
    "    for i in l1:\n",
    "        count+=(l.count(i))//2\n",
    "    return(count)\n"
   ]
  },
  {
   "cell_type": "code",
   "execution_count": 45,
   "id": "0a9b3b7c",
   "metadata": {},
   "outputs": [
    {
     "data": {
      "text/plain": [
       "3"
      ]
     },
     "execution_count": 45,
     "metadata": {},
     "output_type": "execute_result"
    }
   ],
   "source": [
    "sock_merchant([10, 20, 20, 10, 10, 30, 50, 10, 20]) "
   ]
  },
  {
   "cell_type": "code",
   "execution_count": 39,
   "id": "6dc7ae9c",
   "metadata": {},
   "outputs": [],
   "source": [
    "#5. Create a function that takes a string containing integers as well as other characters and return the sum of the negative integers only.\n",
    "\n",
    "def negative_sum(l):\n",
    "    sum1=0\n",
    "    l1=l.split(\"-\")\n",
    "    for i in range(1,len(l1)):\n",
    "        l1[i]=l1[i].split()\n",
    "        sum1+=int(l1[i][0])\n",
    "    return(-sum1)\n",
    "        \n",
    "        \n"
   ]
  },
  {
   "cell_type": "code",
   "execution_count": 40,
   "id": "d3faae63",
   "metadata": {},
   "outputs": [
    {
     "data": {
      "text/plain": [
       "-23"
      ]
     },
     "execution_count": 40,
     "metadata": {},
     "output_type": "execute_result"
    }
   ],
   "source": [
    "negative_sum(\"-12 13%14&-11\") "
   ]
  },
  {
   "cell_type": "code",
   "execution_count": null,
   "id": "4326f8b0",
   "metadata": {},
   "outputs": [],
   "source": []
  }
 ],
 "metadata": {
  "kernelspec": {
   "display_name": "Python 3 (ipykernel)",
   "language": "python",
   "name": "python3"
  },
  "language_info": {
   "codemirror_mode": {
    "name": "ipython",
    "version": 3
   },
   "file_extension": ".py",
   "mimetype": "text/x-python",
   "name": "python",
   "nbconvert_exporter": "python",
   "pygments_lexer": "ipython3",
   "version": "3.9.13"
  }
 },
 "nbformat": 4,
 "nbformat_minor": 5
}
