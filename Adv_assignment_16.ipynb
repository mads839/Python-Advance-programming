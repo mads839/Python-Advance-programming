{
 "cells": [
  {
   "cell_type": "raw",
   "id": "1b083bd8",
   "metadata": {},
   "source": [
    "1. Rondo Form is a type of musical structure, in which there is a recurring theme/refrain, notated as A. Here are the rules for valid rondo forms:\n",
    "\n",
    "   - Rondo forms always start and end with an A section.\n",
    "   - In between the A sections, there should be contrasting sections notated as B, then C, then D, etc... No letter should be skipped.\n",
    "   - There shouldn't be any repeats in the sequence (such as ABBACCA).\n",
    "\n",
    "Create a function which validates whether a given string is a valid Rondo Form.\n",
    "\n"
   ]
  },
  {
   "cell_type": "code",
   "execution_count": 51,
   "id": "97990737",
   "metadata": {},
   "outputs": [],
   "source": [
    "def is_valid_rondo_form(string):\n",
    "    # Check if the string starts and ends with 'A'\n",
    "    if string[0] != 'A' or string[-1] != 'A':\n",
    "        return False\n",
    "\n",
    "    # Check if the letters in between are in the correct sequence\n",
    "    for i in range(1, len(string) - 1):\n",
    "        if string[i] != 'A' and string.count(string[i]) >1 :  # Check if the letter is in alphabetical order (B, C, D, ...)\n",
    "            return False\n",
    "        if string[i] != 'A' and(string[i] == chr(ord('A') + i)):\n",
    "            return True\n",
    "        else:\n",
    "            return False\n",
    "\n",
    "    \n"
   ]
  },
  {
   "cell_type": "code",
   "execution_count": 52,
   "id": "c1772594",
   "metadata": {},
   "outputs": [
    {
     "data": {
      "text/plain": [
       "True"
      ]
     },
     "execution_count": 52,
     "metadata": {},
     "output_type": "execute_result"
    }
   ],
   "source": [
    "is_valid_rondo_form(\"ABACA\") "
   ]
  },
  {
   "cell_type": "code",
   "execution_count": 53,
   "id": "e6cde8a6",
   "metadata": {},
   "outputs": [
    {
     "data": {
      "text/plain": [
       "False"
      ]
     },
     "execution_count": 53,
     "metadata": {},
     "output_type": "execute_result"
    }
   ],
   "source": [
    "is_valid_rondo_form(\"ABBACCA\") "
   ]
  },
  {
   "cell_type": "code",
   "execution_count": 54,
   "id": "5a34083a",
   "metadata": {},
   "outputs": [
    {
     "data": {
      "text/plain": [
       "True"
      ]
     },
     "execution_count": 54,
     "metadata": {},
     "output_type": "execute_result"
    }
   ],
   "source": [
    "is_valid_rondo_form(\"ABACADAEAFAGAHAIAJA\") "
   ]
  },
  {
   "cell_type": "raw",
   "id": "acd6743c",
   "metadata": {},
   "source": [
    "2. Create a function that returns the whole of the first sentence which contains a specific word. Include the full stop at the end of the sentence.\n",
    "\n"
   ]
  },
  {
   "cell_type": "code",
   "execution_count": 7,
   "id": "3ee9b952",
   "metadata": {},
   "outputs": [],
   "source": [
    "def sentence_searcher(text,s):\n",
    "    for i in text.split(\".\"):\n",
    "        if s.lower() in i.lower():\n",
    "            i=i.strip()\n",
    "            i+=\".\"\n",
    "            return(i)\n",
    "        else:\n",
    "            return(\"\")\n",
    "    "
   ]
  },
  {
   "cell_type": "code",
   "execution_count": 8,
   "id": "4088ebd2",
   "metadata": {},
   "outputs": [
    {
     "data": {
      "text/plain": [
       "'I have a cat.'"
      ]
     },
     "execution_count": 8,
     "metadata": {},
     "output_type": "execute_result"
    }
   ],
   "source": [
    "txt = \"I have a cat. I have a mat. Things are going swell.\"\n",
    "\n",
    "sentence_searcher(txt, \"have\")\n"
   ]
  },
  {
   "cell_type": "code",
   "execution_count": 9,
   "id": "03e304e0",
   "metadata": {},
   "outputs": [
    {
     "data": {
      "text/plain": [
       "''"
      ]
     },
     "execution_count": 9,
     "metadata": {},
     "output_type": "execute_result"
    }
   ],
   "source": [
    "sentence_searcher(txt, \"flat\") "
   ]
  },
  {
   "cell_type": "raw",
   "id": "a00f4dc7",
   "metadata": {},
   "source": [
    "3. Given a number, find the \"round \"of each digit of the number. An integer is called \"round\" if all its digits except the leftmost (most significant) are equal to zero.\n",
    "\n",
    "    - Round numbers: 4000, 1, 9, 800, 90\n",
    "    - Not round numbers: 110, 707, 222, 1001\n",
    "\n",
    "Create a function that takes a number and returns the \"round\" of each digit (except if the digit is zero) as a string. Check out the following examples for more clarification.\n",
    "\n"
   ]
  },
  {
   "cell_type": "code",
   "execution_count": 57,
   "id": "7a48c42b",
   "metadata": {},
   "outputs": [],
   "source": [
    "def sum_round(number):\n",
    "    digits = list(str(number))  # Convert number to a list of digits\n",
    "    result = []\n",
    "\n",
    "    for i, digit in enumerate(digits):\n",
    "        if digit != '0':\n",
    "            rounded = int(digit) * (10 ** (len(digits) - i - 1))  # Calculate the rounded value\n",
    "            result.append(str(rounded))  # Append rounded value to the result list\n",
    "\n",
    "    return ' '.join(result)  # Join the result list elements into a string with spaces\n"
   ]
  },
  {
   "cell_type": "code",
   "execution_count": 67,
   "id": "e144069a",
   "metadata": {},
   "outputs": [
    {
     "data": {
      "text/plain": [
       "'50000 4000 200 10'"
      ]
     },
     "execution_count": 67,
     "metadata": {},
     "output_type": "execute_result"
    }
   ],
   "source": [
    "sum_round(54210) "
   ]
  },
  {
   "cell_type": "code",
   "execution_count": 58,
   "id": "5897da39",
   "metadata": {},
   "outputs": [
    {
     "data": {
      "text/plain": [
       "'100 1'"
      ]
     },
     "execution_count": 58,
     "metadata": {},
     "output_type": "execute_result"
    }
   ],
   "source": [
    "sum_round(101) "
   ]
  },
  {
   "cell_type": "code",
   "execution_count": null,
   "id": "be3f1fb1",
   "metadata": {},
   "outputs": [],
   "source": [
    "4. Your task, is to create N x N multiplication table, of size n provided in parameter.\n",
    "\n",
    "For example, when n is 5, the multiplication table is:\n",
    "\n",
    "   - 1, 2, 3, 4, 5\n",
    "   - 2, 4, 6, 8, 10\n",
    "   - 3, 6, 9, 12, 15\n",
    "   - 4, 8, 12, 16, 20\n",
    "   - 5, 10, 15, 20, 25\n",
    "\n",
    "This example will result in:\n",
    "\n",
    "[[1, 2, 3, 4, 5], [2, 4, 6, 8, 10], [3, 6, 9, 12, 15], [4, 8, 12, 16, 20], [5, 10, 15, 20, 25]]\n",
    "\n"
   ]
  },
  {
   "cell_type": "code",
   "execution_count": 10,
   "id": "a340b7f5",
   "metadata": {},
   "outputs": [],
   "source": [
    "def mul_table(n):\n",
    "    l=[]\n",
    "    k=1\n",
    "    for i in range(n):\n",
    "        l1=[]\n",
    "        for j in range(1,n+1):\n",
    "            l1.append(j*k)\n",
    "        l.append(l1)\n",
    "        k+=1\n",
    "    return(l)\n",
    "            "
   ]
  },
  {
   "cell_type": "code",
   "execution_count": 12,
   "id": "3322d16a",
   "metadata": {},
   "outputs": [
    {
     "data": {
      "text/plain": [
       "[[1, 2, 3], [2, 4, 6], [3, 6, 9]]"
      ]
     },
     "execution_count": 12,
     "metadata": {},
     "output_type": "execute_result"
    }
   ],
   "source": [
    "mul_table(3) "
   ]
  },
  {
   "cell_type": "raw",
   "id": "56ae7f93",
   "metadata": {},
   "source": [
    "5. Create a function that returns True if two lines rhyme and False otherwise. For the purposes of this exercise, two lines rhyme if the last word from each sentence contains the same vowels.\n",
    "\n"
   ]
  },
  {
   "cell_type": "code",
   "execution_count": 29,
   "id": "13939b20",
   "metadata": {},
   "outputs": [],
   "source": [
    "def does_rhyme(s,s1):\n",
    "    for word in s.split()[-1]:\n",
    "        for word1 in s1.split()[-1]:\n",
    "            if word.lower() in \"aieou\" and word1.lower() in \"aeiou\":\n",
    "                if word.lower() != word1.lower():\n",
    "                    return False\n",
    "                else:\n",
    "                   return True    "
   ]
  },
  {
   "cell_type": "code",
   "execution_count": 30,
   "id": "32d20846",
   "metadata": {},
   "outputs": [
    {
     "data": {
      "text/plain": [
       "True"
      ]
     },
     "execution_count": 30,
     "metadata": {},
     "output_type": "execute_result"
    }
   ],
   "source": [
    "does_rhyme(\"Sam I am!\", \"Green eggs and ham.\") "
   ]
  },
  {
   "cell_type": "code",
   "execution_count": null,
   "id": "f1590163",
   "metadata": {},
   "outputs": [],
   "source": []
  }
 ],
 "metadata": {
  "kernelspec": {
   "display_name": "Python 3 (ipykernel)",
   "language": "python",
   "name": "python3"
  },
  "language_info": {
   "codemirror_mode": {
    "name": "ipython",
    "version": 3
   },
   "file_extension": ".py",
   "mimetype": "text/x-python",
   "name": "python",
   "nbconvert_exporter": "python",
   "pygments_lexer": "ipython3",
   "version": "3.9.13"
  }
 },
 "nbformat": 4,
 "nbformat_minor": 5
}
