{
 "cells": [
  {
   "cell_type": "code",
   "execution_count": 11,
   "id": "df24e2d5",
   "metadata": {},
   "outputs": [],
   "source": [
    "#. Given a sentence as txt, return True if any two adjacent words have this property: One word ends with a vowel, while the word immediately after begins with a vowel (a e i o u).\n",
    "def vowel_links(s):\n",
    "    l=s.split()\n",
    "    for i in range(len(l)-1):\n",
    "        if ((l[i][-1] in [\"a\",\"e\",\"i\",\"o\",\"u\"]) and (l[i+1][0] in [\"a\",\"e\",\"i\",\"o\",\"u\"])):\n",
    "            return True\n",
    "        else:\n",
    "            return False\n",
    "    \n",
    "        \n"
   ]
  },
  {
   "cell_type": "code",
   "execution_count": 15,
   "id": "f45f2c69",
   "metadata": {},
   "outputs": [
    {
     "data": {
      "text/plain": [
       "True"
      ]
     },
     "execution_count": 15,
     "metadata": {},
     "output_type": "execute_result"
    }
   ],
   "source": [
    "vowel_links(\"a very large appliance\") "
   ]
  },
  {
   "cell_type": "code",
   "execution_count": 17,
   "id": "62a94fc6",
   "metadata": {},
   "outputs": [],
   "source": [
    "# 2. You are given three inputs: a string, one letter, and a second letter.\n",
    "\n",
    "# Write a function that returns True if every instance of the first letter occurs before every instance of the second letter.\n",
    "\n",
    "def first_before_second(s,f,l):\n",
    "    if s.rfind(f)<s.find(l) :\n",
    "        return True\n",
    "    else:\n",
    "        return False \n"
   ]
  },
  {
   "cell_type": "code",
   "execution_count": 18,
   "id": "7f65f70c",
   "metadata": {},
   "outputs": [
    {
     "data": {
      "text/plain": [
       "True"
      ]
     },
     "execution_count": 18,
     "metadata": {},
     "output_type": "execute_result"
    }
   ],
   "source": [
    "first_before_second(\"a rabbit jumps joyfully\", \"a\", \"j\") "
   ]
  },
  {
   "cell_type": "code",
   "execution_count": 6,
   "id": "a7f185e1",
   "metadata": {},
   "outputs": [],
   "source": [
    "#3. Create a function that returns the characters from a list or string r on odd or even positions, depending on the specifier s. The specifier will be \"odd\" for items on odd positions (1, 3, 5, ...) and \"even\" for items on even positions (2, 4, 6, ...)\n",
    "\n",
    "def char_at_pos(l,s):\n",
    "    if s==\"even\":\n",
    "        return [l[i] for i in range(len(l))if (i+1)%2==0]\n",
    "    if s==\"odd\":\n",
    "        return[l[i] for i in range (len(l))if(i+1)%2==0]\n",
    "    \n"
   ]
  },
  {
   "cell_type": "code",
   "execution_count": 7,
   "id": "1beb78ce",
   "metadata": {},
   "outputs": [
    {
     "data": {
      "text/plain": [
       "[4, 8]"
      ]
     },
     "execution_count": 7,
     "metadata": {},
     "output_type": "execute_result"
    }
   ],
   "source": [
    "char_at_pos([2, 4, 6, 8, 10], \"even\") "
   ]
  },
  {
   "cell_type": "code",
   "execution_count": 12,
   "id": "bd4b5c1f",
   "metadata": {},
   "outputs": [],
   "source": [
    "#4. Write a function that returns the greatest common divisor of all list elements. If the greatest common divisor is 1, return 1.\n",
    "import math\n",
    "def gcd(numbers):\n",
    "    res=numbers[0]\n",
    "    for i in range(1,len(numbers)):\n",
    "        res=math.gcd(numbers[i],res)\n",
    "        return(res)\n",
    "\n"
   ]
  },
  {
   "cell_type": "code",
   "execution_count": 13,
   "id": "1f2033dc",
   "metadata": {},
   "outputs": [
    {
     "data": {
      "text/plain": [
       "10"
      ]
     },
     "execution_count": 13,
     "metadata": {},
     "output_type": "execute_result"
    }
   ],
   "source": [
    "gcd([10, 20, 40]) "
   ]
  },
  {
   "cell_type": "code",
   "execution_count": 14,
   "id": "33ec5f6d",
   "metadata": {},
   "outputs": [],
   "source": [
    "# 5. A number/string is a palindrome if the digits/characters are the same when read both forward and backward. Examples include \"racecar\" and 12321. Given a positive number n, check if n or the binary representation of n is palindromic. Return the following:\n",
    "\n",
    "# - \"Decimal only.\" if only n is a palindrome.\n",
    "# - \"Binary only.\" if only the binary representation of n is a palindrome.\n",
    "# - \"Decimal and binary.\" if both are palindromes.\n",
    "# - \"Neither!\" if neither are palindromes.\n",
    "\n",
    "def palindrome_type(n):\n",
    "    type_is=\"\"\n",
    "    if(bin(n).lstrip(\"0b\") == bin(n).lstrip(\"0b\")[::-1]):\n",
    "        type_is+= \"Binary only\"\n",
    "    if(str(n)==str(n)[::-1]):\n",
    "        type_is+= \"Decimal only\"\n",
    "    if(type_is==\"Binary onlyDecimal only\"):\n",
    "        return(\"Decimal and binary\")\n",
    "    elif (type_is==\"\"):\n",
    "        return(\"Neither\")\n",
    "    else:\n",
    "        return(type_is)\n",
    "        \n",
    "\n"
   ]
  },
  {
   "cell_type": "code",
   "execution_count": 15,
   "id": "eb5b6abc",
   "metadata": {},
   "outputs": [
    {
     "data": {
      "text/plain": [
       "'Decimal only'"
      ]
     },
     "execution_count": 15,
     "metadata": {},
     "output_type": "execute_result"
    }
   ],
   "source": [
    "palindrome_type(1306031) "
   ]
  },
  {
   "cell_type": "code",
   "execution_count": 16,
   "id": "fc7bd128",
   "metadata": {},
   "outputs": [
    {
     "data": {
      "text/plain": [
       "'Decimal and binary'"
      ]
     },
     "execution_count": 16,
     "metadata": {},
     "output_type": "execute_result"
    }
   ],
   "source": [
    "palindrome_type(313) "
   ]
  },
  {
   "cell_type": "code",
   "execution_count": null,
   "id": "aabd57dc",
   "metadata": {},
   "outputs": [],
   "source": []
  }
 ],
 "metadata": {
  "kernelspec": {
   "display_name": "Python 3 (ipykernel)",
   "language": "python",
   "name": "python3"
  },
  "language_info": {
   "codemirror_mode": {
    "name": "ipython",
    "version": 3
   },
   "file_extension": ".py",
   "mimetype": "text/x-python",
   "name": "python",
   "nbconvert_exporter": "python",
   "pygments_lexer": "ipython3",
   "version": "3.9.13"
  }
 },
 "nbformat": 4,
 "nbformat_minor": 5
}
